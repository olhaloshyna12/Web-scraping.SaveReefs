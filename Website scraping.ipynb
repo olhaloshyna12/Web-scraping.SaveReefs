{
 "cells": [
  {
   "cell_type": "code",
   "execution_count": 1,
   "id": "1ef1fd6a",
   "metadata": {},
   "outputs": [
    {
     "name": "stdout",
     "output_type": "stream",
     "text": [
      "The world’s reefs are dying. Here’s how to save them | by The Economist | The Economist Open in app Sign up Sign In Write Sign up Sign In The world’s reefs are dying. Here’s how to save them Though pollution and overuse are damaging corals, their biodiversity offers hope for their future The Economist · Follow Published in The Economist · 9 min read · Apr 4, 2017 -- 3 Listen Share In this edition of our series on the animal world, we’re going under the sea with an article from last year that’s as rich in style as it is in scientific substance The waters off the Hawaiian island of Oahu are visited each winter by migrating marine mammals such as humpback whales. All year round they are home to much smaller animals that form vast reefs: corals. Intricate pink structures stand out amid contortions of vegetable-green ones; dark-striped fish flit among them and turtles hover above. Corals lay down limestone skeletons of different shapes and sizes: branching types like small trees; ground-huggers spreading squat. The colours that lure snorkelling and scuba-driving tourists are produced by single-celled algae that grow symbiotically in corals’ tissue. These use carbon dioxide respired by their host to make oxygen and carbohydrates through photosynthesis, giving corals most of the energy they need to form their skeletons. But this delicate balance is threatened by humans, both in the short term and over the coming years. Reefs will be reduced to bleached-looking skeletons, vulnerable to disease Overfishing, tourism and pollution are the most immediate perils, disrupting reefs’ ecosystems and the ability of corals’ algae to photosynthesise. In the longer term, rising levels of greenhouse gases in the atmosphere will hit reefs in two ways. Oceans absorb about 30% of carbon dioxide emitted into the atmosphere, which makes them more acidic; as concentrations of carbon dioxide in the water rise, it will be harder for coral skeletons to calcify. And as oceans warm, corals will lose their colourful algae, which can only cope within a narrow range of temperatures. Reefs will be reduced to bleached-looking skeletons, vulnerable to disease. Only twice before has such bleaching occurred worldwide. The first time coincided with El Niño in 1997–98, the world’s largest climatic phenomenon, which causes surface temperatures to soar in the Pacific Ocean. The second was in 2010. A third is now under way. About 16% of corals died in the 1997–98 disaster. The current bleaching event, once more occurring alongside a Niño, may have affected 38% of the world’s corals. Conditions now may offer a foretaste of the damage climate change could wreak on these already vulnerable ecosystems. The harm before the storm Coral reefs are found from the Middle East to Australia and America. They cover less than 0.1% of the ocean floor. But their importance is far greater than that figure suggests. They protect 150,000km (93,000 miles) of shoreline in more than 100 countries and territories by acting as coastal buffers, enduring the brunt of high waves and rough weather. They also support perhaps a quarter of all marine species, and act as nurseries for many others. In South-East Asian waters, the richest reefs are in the “coral triangle” (see map). This area of 86,500 square km holds two-thirds of the world’s coral species and more than 3,000 species of reef fish — twice as many as are found anywhere else. In the past half-century, though, these beautiful, biodiverse structures have been put under pressure by human activity. About a quarter of all coral cover has died. The reefs that are in worst shape are those off the most crowded beaches. “People don’t leave enough time for their sun cream to soak in, so it gets in the water,” says one deckhand with Eo Wai’anae Tours, which organises boat trips off Oahu. More damage is caused by fertiliser-rich run-off from farms, leading to algal blooms which block light the corals need. Fishing near reefs cuts the number of herbivorous fish, allowing vegetation to grow out of control. Some fishing methods are particularly harmful: for example, blast fishermen in Colombia, Tanzania and elsewhere use dynamite to stun and kill fish without regard to the harm done to nearby reefs. Crown-of-thorns starfish, coral-chompers that have proliferated in some areas, including Australia’s Great Barrier Reef, add to the stress. In the South China Sea island-building and fishing for giant clams are crushing some reefs beyond the possibility of recovery (see  article ). The World Resources Institute, a think-tank, estimates that about 60% of reefs face such immediate threats. The bounty that reefs provide accrues to those living near them, and in the short term. Without strong property rights, the result is an unfolding tragedy of the commons, in which fishermen and tour operators destroy the resources they rely on. Tourism generated by the Great Barrier Reef is worth about $4.6 billion annually to nearby Queensland alone. Australian bigwigs bent over backwards last year to keep the UN from listing the reef, a World Heritage Site, as “in danger”. Estimates suggest that the economic value of Martinique and Saint Lucia’s corals comes to $50,000 per square km each year, thanks largely to tourism. But overdevelopment threatens the reefs the visitors come to gawp at. Sediment from construction clouds waters, burying corals and blocking the light they need. Hotels close to the shore may be convenient for tourists, but the process of building them can kill the reefs that snorkellers like to swim over. In Indonesia and in the Philippines, up to 1m people’s livelihoods depend on reefs The mix of problems varies from place to place, meaning policies must be locally tailored to tackle them. But even when governments and environmentalists focus on the long term, the need to limit fishing means they often struggle to craft policies that do not cause immediate harm to poor people. The three countries with the largest numbers of people who fish on reefs are all in the coral-triangle region: Indonesia, Papua New Guinea and the Philippines. In Indonesia and in the Philippines, up to 1m people’s livelihoods depend on reefs. Averting a tragedy of the commons means agreeing which activities should be restricted and enforcing the rules. For coral reefs — and other biodiverse marine environments — the usual approach is to give ecologically sensitive areas special status under local or regional laws. In such “marine protected areas” (MPAs), activities that are deemed harmful, such as fishing, drilling and mining, can then be restricted or banned, with penalties for rule-breakers. Command and conquer The Aichi targets, agreed in 2010 under the UN Convention on Biological Diversity, seek to reduce “anthropogenic pressures” on coral reefs to “maintain their integrity and function”. The aim is to have at least 17% of inland water and 10% of coastal and marine areas under conservation by 2020. Most countries have signed up. But the targets are far from being met. Less than 3% of the ocean’s surface is within an MPA. The most urgent action is needed close to shore. The nearer humans are to reefs, the worse their effect on the fragile ecosystems. A global register of fishing vessels, long under discussion, would also help identify wrongdoers. And beefing up the UN law of the sea could inspire further action. Decades old, it has little to say about biodiversity. But simply declaring an area protected does not make it so. In 2009 George Bush junior, then president of America, established three national marine monuments in the Pacific, including nearly 518,000 square km of coral islands and surrounding areas. Their remoteness makes it hard to stop vessels entering illegally; Hawaii’s coastguard is already stretched. Satellites are sometimes used to police MPAs, but they pass over infrequently. In the future, sailing robots could play a larger role. America’s National Oceanic and Atmospheric Administration (NOAA) has been working with a private firm, Saildrone, on hardy models equipped with carbon-fibre fins. They cost less than $500,000 each and can roam remote ocean regions for months, making them far cheaper than manned boats. Such drones could photograph rogue fishing vessels, obtaining hard-to-gather evidence for any criminal proceedings. And they could carry out other useful work at the same time, such as monitoring ocean temperature and acidity or tracking tagged members of endangered species. Saildrone plans to provide its robots as a service, so that universities and other cash-strapped organisations do not have to buy one outright. Richer countries are better able both to administer and to enforce MPAs. Three-quarters of coral reefs in Australian waters are in MPAs, but only 16% of those within the coral triangle. “It is difficult to ensure systematic monitoring,” says Rusty Brainard of NOAA, who has advised marine scientists in the region. Indonesia has more than 17,500 islands, he points out. In poor parts of the world, low-tech methods of surveillance are needed. Just 0.09% of Malaysia’s territorial waters, and those within its exclusive economic zone, are protected by an MPA. But a national programme requires fishermen to paint their vessels according to how far out they have permission to fish within the nearshore area. Other fishermen can then spot when a rogue vessel has strayed, even if they cannot read. And as boats require regular painting anyway, little extra cost falls on their owners. Public-private partnerships could also help. A pilot project in Barbados, supported in part by local hoteliers and tourism organisations, will charge visitors to enter a coastal MPA managed by Blue Finance, an alternative-investment outfit with support from the UN Environment Programme (UNEP). About $1m was needed to set up the area; its upkeep will require half that each year. “We find private investors who don’t mind if their returns are a little below market rates because they are benefiting Barbados,” says Nicolas Pascal, an environmental economist who directs the company. Reefs are complex, ancient systems, and the effects of better policies will become known only gradually Other pilots are under way in Colombia and Martinique. But more backers are needed. According to research conducted under the Convention on Biological Diversity, investment will need to quintuple for the Aichi targets and other conservation goals to be met. The effectiveness of marine reserves is hard to measure. Reefs are complex, ancient systems, and the effects of better policies will become known only gradually. “You can’t manage ecosystems: you can only manage the impact of humans upon them,” says Jerker Tamelander, the head of the reef unit at UNEP. Even if the right policies are adopted to keep corals healthy in the immediate future, longer-term threats loom. Neither oceanic warming nor acidification can be kept out by an MPA. And both may be happening too fast for corals to adapt, especially as recent global climate deals will not slow them much. Back slaps and handshakes accompanied the inclusion of an aim to limit global warming to just 1.5°C above pre-industrial levels in the Paris Agreement last year. But only an incorrigible optimist would bet on that aim being achieved. And even if it is, that much warming could breach the environmental limits within which most reefs can thrive. Nurture, not nature So researchers are turning their attention to ways to help corals cope. Their global diversity, scientists hope, may hold the key. The same coral will grow differently under different conditions: corals of the western Pacific near Indonesia, for example, can withstand higher temperatures than the same species in the eastern Pacific near Hawaii. Such disparities can be found even quite locally. In Kane’ohe Bay, where the Hawaii Institute of Marine Biology lies, 70% of some reef patches has been bleached in the current event. Others, less than 200 metres away, suffered bleaching to just 40% of their corals. The characteristics that help some reefs survive unusual conditions could allow others to endure climate change. But tough corals from one place cannot simply be transplanted to another. So a team at the Hawaii Institute of Marine Biology is in the early stages of engineering reef ecosystems, with $4m from the Paul G. Allen Foundation, a charity set up by Bill Gates’s former business partner. Organisms respond to environmental changes through both genetic processes (adaptation) and non-genetic ones (acclimatisation). With corals, the nature of their symbiotic relationships can also alter. So selectively breeding and conditioning them, and investigating whether certain types of algae confer resistance to heat or acidity, could create hardier varieties faster than they would develop naturally. These could then be used to repopulate ravaged reefs — once more is known about how and where to transplant them. “We’re assisting evolution,” explains Ruth Gates, who leads the research. Her team aims to help corals withstand changing ocean temperature and chemistry. Despite all her effort, she says: “if the tools we develop are never used, I would be the happiest person in the world.” This article first appeared in  The Economist Climate Change Environment Animals Science -- -- 3 Follow Written by  The Economist 334K Followers · Editor for  The Economist Insight and opinion on international news, politics, business, finance, science, technology, books and arts. Follow More from  The Economist  and The Economist The Economist in The Economist Why doing a PhD is often a waste of time The disposable academic 10 min read · Dec 27, 2016 -- 90 Rosamund Pearce in The Economist Why you sometimes need to break the rules in data viz Best practices help us to avoid common pitfalls in data visualisation — but we shouldn’t follow them blindly 10 min read · Feb 28, 2020 -- 8 Sarah Leo in The Economist Mistakes, we’ve drawn a few Learning from our errors in data visualisation 8 min read · Mar 27, 2019 -- 68 The Economist in The Economist Is The Economist left- or right-wing? Neither. We consider ourselves to be in the “radical centre” 3 min read · Apr 26, 2017 -- 33 See all from  The Economist See all from  The Economist Recommended from Medium Unbecoming 10 Seconds That Ended My 20 Year Marriage It’s August in Northern Virginia, hot and humid. I still haven’t showered from my morning trail run. I’m wearing my stay-at-home mom… · 4 min read · Feb 16, 2022 -- 887 Zulie Rane in The Startup If You Want to Be a Creator, Delete All (But Two) Social Media Platforms In October 2022, during the whole Elon Musk debacle, I finally deleted Twitter from my phone. Around the same time, I also logged out of… · 8 min read · Apr 19 -- 889 Lists 6 Science-Backed Health Stories on Covid, Sleep, and More 6 stories · 29   saves ChatGPT 21 stories · 112   saves What is ChatGPT? 9 stories · 154   saves Self-Improvement 101 20 stories · 431   saves The PyCoach in Artificial Corner You’re Using ChatGPT Wrong! Here’s How to Be Ahead of 99% of ChatGPT Users Master ChatGPT by learning prompt engineering. · 7 min read · Mar 17 -- 562 Tomas Pueyo Why Half of Humanity Lives in This Circle One single accident · 11 min read · Jul 30 -- 78 Nick Wignall 3 Habits That Will Make You Mentally Strong #2: Avoid unnecessary mental time travel · 9 min read · Apr 2 -- 283 May Pang in Better Humans Statistically, You Will Marry the Wrong Person. Here’s Why. Luckily, statistics also tell you how not to. · 9 min read · Jul 14 -- 242 See more recommendations Help Status Writers Blog Careers Privacy Terms About Text to speech Teams \n",
      " \n",
      " \n",
      " \n",
      " \n",
      " \n",
      " \n",
      " \n",
      " \n",
      " \n",
      " \n",
      " \n",
      " \n",
      " \n",
      " \n",
      " \n",
      " \n",
      " \n",
      " \n",
      " \n",
      " \n",
      " \n",
      " \n",
      " \n",
      " \n",
      " \n",
      " \n",
      " \n",
      " \n",
      " \n",
      " \n",
      " \n",
      " \n",
      "\n"
     ]
    }
   ],
   "source": [
    "# exctract the text and understand its https\n",
    "import requests\n",
    "from bs4 import BeautifulSoup\n",
    "\n",
    "# HTTP request\n",
    "url = 'https://medium.com/the-economist/the-worlds-reefs-are-dying-here-s-how-to-save-them-2326bcf2e2af'\n",
    "response = requests.get(url)\n",
    "\n",
    "# Parse the HTML content with Beautiful Soup\n",
    "soup = BeautifulSoup(response.content, 'html.parser')\n",
    "\n",
    "# Remove unwanted elements (script, style, comments, etc.)\n",
    "for element in soup(['script', 'style', 'comment']):\n",
    "    element.extract()\n",
    "\n",
    "# Extract the visible text\n",
    "text = soup.get_text(separator=' ')\n",
    "\n",
    "# Print the extracted text\n",
    "print(text)"
   ]
  },
  {
   "cell_type": "code",
   "execution_count": 2,
   "id": "c6a19d8b",
   "metadata": {},
   "outputs": [
    {
     "name": "stdout",
     "output_type": "stream",
     "text": [
      "The world’s reefs are dying. Here’s how to save them | by The Economist | The Economist Open in app Sign up Sign In Write Sign up Sign In The world’s reefs are dying. Here’s how to save them Though pollution and overuse are damaging corals, their biodiversity offers hope for their future The Economist · Follow Published in The Economist · 9 min read · Apr 4, 2017 -- 3 Listen Share In this edition of our series on the animal world, we’re going under the sea with an article from last year that’s as rich in style as it is in scientific substance The waters off the Hawaiian island of Oahu are visited each winter by migrating marine mammals such as humpback whales. All year round they are home to much smaller animals that form vast reefs: corals. Intricate pink structures stand out amid contortions of vegetable-green ones; dark-striped fish flit among them and turtles hover above. Corals lay down limestone skeletons of different shapes and sizes: branching types like small trees; ground-huggers spreading squat. The colours that lure snorkelling and scuba-driving tourists are produced by single-celled algae that grow symbiotically in corals’ tissue. These use carbon dioxide respired by their host to make oxygen and carbohydrates through photosynthesis, giving corals most of the energy they need to form their skeletons. But this delicate balance is threatened by humans, both in the short term and over the coming years. Reefs will be reduced to bleached-looking skeletons, vulnerable to disease Overfishing, tourism and pollution are the most immediate perils, disrupting reefs’ ecosystems and the ability of corals’ algae to photosynthesise. In the longer term, rising levels of greenhouse gases in the atmosphere will hit reefs in two ways. Oceans absorb about 30% of carbon dioxide emitted into the atmosphere, which makes them more acidic; as concentrations of carbon dioxide in the water rise, it will be harder for coral skeletons to calcify. And as oceans warm, corals will lose their colourful algae, which can only cope within a narrow range of temperatures. Reefs will be reduced to bleached-looking skeletons, vulnerable to disease. Only twice before has such bleaching occurred worldwide. The first time coincided with El Niño in 1997–98, the world’s largest climatic phenomenon, which causes surface temperatures to soar in the Pacific Ocean. The second was in 2010. A third is now under way. About 16% of corals died in the 1997–98 disaster. The current bleaching event, once more occurring alongside a Niño, may have affected 38% of the world’s corals. Conditions now may offer a foretaste of the damage climate change could wreak on these already vulnerable ecosystems. The harm before the storm Coral reefs are found from the Middle East to Australia and America. They cover less than 0.1% of the ocean floor. But their importance is far greater than that figure suggests. They protect 150,000km (93,000 miles) of shoreline in more than 100 countries and territories by acting as coastal buffers, enduring the brunt of high waves and rough weather. They also support perhaps a quarter of all marine species, and act as nurseries for many others. In South-East Asian waters, the richest reefs are in the “coral triangle” (see map). This area of 86,500 square km holds two-thirds of the world’s coral species and more than 3,000 species of reef fish — twice as many as are found anywhere else. In the past half-century, though, these beautiful, biodiverse structures have been put under pressure by human activity. About a quarter of all coral cover has died. The reefs that are in worst shape are those off the most crowded beaches. “People don’t leave enough time for their sun cream to soak in, so it gets in the water,” says one deckhand with Eo Wai’anae Tours, which organises boat trips off Oahu. More damage is caused by fertiliser-rich run-off from farms, leading to algal blooms which block light the corals need. Fishing near reefs cuts the number of herbivorous fish, allowing vegetation to grow out of control. Some fishing methods are particularly harmful: for example, blast fishermen in Colombia, Tanzania and elsewhere use dynamite to stun and kill fish without regard to the harm done to nearby reefs. Crown-of-thorns starfish, coral-chompers that have proliferated in some areas, including Australia’s Great Barrier Reef, add to the stress. In the South China Sea island-building and fishing for giant clams are crushing some reefs beyond the possibility of recovery (see  article ). The World Resources Institute, a think-tank, estimates that about 60% of reefs face such immediate threats. The bounty that reefs provide accrues to those living near them, and in the short term. Without strong property rights, the result is an unfolding tragedy of the commons, in which fishermen and tour operators destroy the resources they rely on. Tourism generated by the Great Barrier Reef is worth about $4.6 billion annually to nearby Queensland alone. Australian bigwigs bent over backwards last year to keep the UN from listing the reef, a World Heritage Site, as “in danger”. Estimates suggest that the economic value of Martinique and Saint Lucia’s corals comes to $50,000 per square km each year, thanks largely to tourism. But overdevelopment threatens the reefs the visitors come to gawp at. Sediment from construction clouds waters, burying corals and blocking the light they need. Hotels close to the shore may be convenient for tourists, but the process of building them can kill the reefs that snorkellers like to swim over. In Indonesia and in the Philippines, up to 1m people’s livelihoods depend on reefs The mix of problems varies from place to place, meaning policies must be locally tailored to tackle them. But even when governments and environmentalists focus on the long term, the need to limit fishing means they often struggle to craft policies that do not cause immediate harm to poor people. The three countries with the largest numbers of people who fish on reefs are all in the coral-triangle region: Indonesia, Papua New Guinea and the Philippines. In Indonesia and in the Philippines, up to 1m people’s livelihoods depend on reefs. Averting a tragedy of the commons means agreeing which activities should be restricted and enforcing the rules. For coral reefs — and other biodiverse marine environments — the usual approach is to give ecologically sensitive areas special status under local or regional laws. In such “marine protected areas” (MPAs), activities that are deemed harmful, such as fishing, drilling and mining, can then be restricted or banned, with penalties for rule-breakers. Command and conquer The Aichi targets, agreed in 2010 under the UN Convention on Biological Diversity, seek to reduce “anthropogenic pressures” on coral reefs to “maintain their integrity and function”. The aim is to have at least 17% of inland water and 10% of coastal and marine areas under conservation by 2020. Most countries have signed up. But the targets are far from being met. Less than 3% of the ocean’s surface is within an MPA. The most urgent action is needed close to shore. The nearer humans are to reefs, the worse their effect on the fragile ecosystems. A global register of fishing vessels, long under discussion, would also help identify wrongdoers. And beefing up the UN law of the sea could inspire further action. Decades old, it has little to say about biodiversity. But simply declaring an area protected does not make it so. In 2009 George Bush junior, then president of America, established three national marine monuments in the Pacific, including nearly 518,000 square km of coral islands and surrounding areas. Their remoteness makes it hard to stop vessels entering illegally; Hawaii’s coastguard is already stretched. Satellites are sometimes used to police MPAs, but they pass over infrequently. In the future, sailing robots could play a larger role. America’s National Oceanic and Atmospheric Administration (NOAA) has been working with a private firm, Saildrone, on hardy models equipped with carbon-fibre fins. They cost less than $500,000 each and can roam remote ocean regions for months, making them far cheaper than manned boats. Such drones could photograph rogue fishing vessels, obtaining hard-to-gather evidence for any criminal proceedings. And they could carry out other useful work at the same time, such as monitoring ocean temperature and acidity or tracking tagged members of endangered species. Saildrone plans to provide its robots as a service, so that universities and other cash-strapped organisations do not have to buy one outright. Richer countries are better able both to administer and to enforce MPAs. Three-quarters of coral reefs in Australian waters are in MPAs, but only 16% of those within the coral triangle. “It is difficult to ensure systematic monitoring,” says Rusty Brainard of NOAA, who has advised marine scientists in the region. Indonesia has more than 17,500 islands, he points out. In poor parts of the world, low-tech methods of surveillance are needed. Just 0.09% of Malaysia’s territorial waters, and those within its exclusive economic zone, are protected by an MPA. But a national programme requires fishermen to paint their vessels according to how far out they have permission to fish within the nearshore area. Other fishermen can then spot when a rogue vessel has strayed, even if they cannot read. And as boats require regular painting anyway, little extra cost falls on their owners. Public-private partnerships could also help. A pilot project in Barbados, supported in part by local hoteliers and tourism organisations, will charge visitors to enter a coastal MPA managed by Blue Finance, an alternative-investment outfit with support from the UN Environment Programme (UNEP). About $1m was needed to set up the area; its upkeep will require half that each year. “We find private investors who don’t mind if their returns are a little below market rates because they are benefiting Barbados,” says Nicolas Pascal, an environmental economist who directs the company. Reefs are complex, ancient systems, and the effects of better policies will become known only gradually Other pilots are under way in Colombia and Martinique. But more backers are needed. According to research conducted under the Convention on Biological Diversity, investment will need to quintuple for the Aichi targets and other conservation goals to be met. The effectiveness of marine reserves is hard to measure. Reefs are complex, ancient systems, and the effects of better policies will become known only gradually. “You can’t manage ecosystems: you can only manage the impact of humans upon them,” says Jerker Tamelander, the head of the reef unit at UNEP. Even if the right policies are adopted to keep corals healthy in the immediate future, longer-term threats loom. Neither oceanic warming nor acidification can be kept out by an MPA. And both may be happening too fast for corals to adapt, especially as recent global climate deals will not slow them much. Back slaps and handshakes accompanied the inclusion of an aim to limit global warming to just 1.5°C above pre-industrial levels in the Paris Agreement last year. But only an incorrigible optimist would bet on that aim being achieved. And even if it is, that much warming could breach the environmental limits within which most reefs can thrive. Nurture, not nature So researchers are turning their attention to ways to help corals cope. Their global diversity, scientists hope, may hold the key. The same coral will grow differently under different conditions: corals of the western Pacific near Indonesia, for example, can withstand higher temperatures than the same species in the eastern Pacific near Hawaii. Such disparities can be found even quite locally. In Kane’ohe Bay, where the Hawaii Institute of Marine Biology lies, 70% of some reef patches has been bleached in the current event. Others, less than 200 metres away, suffered bleaching to just 40% of their corals. The characteristics that help some reefs survive unusual conditions could allow others to endure climate change. But tough corals from one place cannot simply be transplanted to another. So a team at the Hawaii Institute of Marine Biology is in the early stages of engineering reef ecosystems, with $4m from the Paul G. Allen Foundation, a charity set up by Bill Gates’s former business partner. Organisms respond to environmental changes through both genetic processes (adaptation) and non-genetic ones (acclimatisation). With corals, the nature of their symbiotic relationships can also alter. So selectively breeding and conditioning them, and investigating whether certain types of algae confer resistance to heat or acidity, could create hardier varieties faster than they would develop naturally. These could then be used to repopulate ravaged reefs — once more is known about how and where to transplant them. “We’re assisting evolution,” explains Ruth Gates, who leads the research. Her team aims to help corals withstand changing ocean temperature and chemistry. Despite all her effort, she says: “if the tools we develop are never used, I would be the happiest person in the world.” This article first appeared in  The Economist Climate Change Environment Animals Science -- -- 3 Follow Written by  The Economist 334K Followers · Editor for  The Economist Insight and opinion on international news, politics, business, finance, science, technology, books and arts. Follow More from  The Economist  and The Economist The Economist in The Economist Why doing a PhD is often a waste of time The disposable academic 10 min read · Dec 27, 2016 -- 90 Rosamund Pearce in The Economist Why you sometimes need to break the rules in data viz Best practices help us to avoid common pitfalls in data visualisation — but we shouldn’t follow them blindly 10 min read · Feb 28, 2020 -- 8 Sarah Leo in The Economist Mistakes, we’ve drawn a few Learning from our errors in data visualisation 8 min read · Mar 27, 2019 -- 68 The Economist in The Economist Is The Economist left- or right-wing? Neither. We consider ourselves to be in the “radical centre” 3 min read · Apr 26, 2017 -- 33 See all from  The Economist See all from  The Economist Recommended from Medium Unbecoming 10 Seconds That Ended My 20 Year Marriage It’s August in Northern Virginia, hot and humid. I still haven’t showered from my morning trail run. I’m wearing my stay-at-home mom… · 4 min read · Feb 16, 2022 -- 887 Zulie Rane in The Startup If You Want to Be a Creator, Delete All (But Two) Social Media Platforms In October 2022, during the whole Elon Musk debacle, I finally deleted Twitter from my phone. Around the same time, I also logged out of… · 8 min read · Apr 19 -- 889 Lists 6 Science-Backed Health Stories on Covid, Sleep, and More 6 stories · 29   saves ChatGPT 21 stories · 112   saves What is ChatGPT? 9 stories · 154   saves Self-Improvement 101 20 stories · 431   saves The PyCoach in Artificial Corner You’re Using ChatGPT Wrong! Here’s How to Be Ahead of 99% of ChatGPT Users Master ChatGPT by learning prompt engineering. · 7 min read · Mar 17 -- 562 Tomas Pueyo Why Half of Humanity Lives in This Circle One single accident · 11 min read · Jul 30 -- 78 Nick Wignall 3 Habits That Will Make You Mentally Strong #2: Avoid unnecessary mental time travel · 9 min read · Apr 2 -- 283 May Pang in Better Humans Statistically, You Will Marry the Wrong Person. Here’s Why. Luckily, statistics also tell you how not to. · 9 min read · Jul 14 -- 242 See more recommendations Help Status Writers Blog Careers Privacy Terms About Text to speech Teams \n",
      " \n",
      " \n",
      " \n",
      " \n",
      " \n",
      " \n",
      " \n",
      " \n",
      " \n",
      " \n",
      " \n",
      " \n",
      " \n",
      " \n",
      " \n",
      " \n",
      " \n",
      " \n",
      " \n",
      " \n",
      " \n",
      " \n",
      " \n",
      " \n",
      " \n",
      " \n",
      " \n",
      " \n",
      " \n",
      " \n",
      " \n",
      " \n",
      "\n"
     ]
    }
   ],
   "source": [
    "def get_and_parse(url):\n",
    "  response = requests.get(url)\n",
    "\n",
    "# Parse the HTML content with Beautiful Soup\n",
    "  soup = BeautifulSoup(response.content, 'html.parser')\n",
    "\n",
    "# Remove unwanted elements (script, style, comments, etc.)\n",
    "  for element in soup(['script', 'style', 'comment']):\n",
    "      element.extract()\n",
    "\n",
    "# Extract the visible text\n",
    "  text = soup.get_text(separator=' ')\n",
    "  return text\n",
    "\n",
    "print(get_and_parse('https://medium.com/the-economist/the-worlds-reefs-are-dying-here-s-how-to-save-them-2326bcf2e2af'))"
   ]
  },
  {
   "cell_type": "code",
   "execution_count": 3,
   "id": "eb791d5b",
   "metadata": {},
   "outputs": [],
   "source": [
    "import pandas as pd\n",
    "from urllib.parse import urlparse\n",
    "import numpy as np\n",
    "import nltk.data\n",
    "from requests_html import HTMLSession"
   ]
  },
  {
   "cell_type": "code",
   "execution_count": 35,
   "id": "89dfa9b2",
   "metadata": {},
   "outputs": [],
   "source": [
    "def parse_elements(url,element):\n",
    "    session = HTMLSession()\n",
    "    r = session.get(url)\n",
    "    elements = r.html.find('element')\n",
    "    return elements"
   ]
  },
  {
   "cell_type": "code",
   "execution_count": 36,
   "id": "59593b44",
   "metadata": {},
   "outputs": [],
   "source": [
    "url = 'https://medium.com/the-economist/the-worlds-reefs-are-dying-here-s-how-to-save-them-2326bcf2e2af'"
   ]
  },
  {
   "cell_type": "code",
   "execution_count": 37,
   "id": "50fcd4c0",
   "metadata": {},
   "outputs": [],
   "source": [
    "paragraphs = parse_elements(url, 'p')\n",
    "links = parse_elements(url, 'a')"
   ]
  },
  {
   "cell_type": "code",
   "execution_count": 38,
   "id": "77b0e307",
   "metadata": {},
   "outputs": [],
   "source": [
    "for p in paragraphs:\n",
    "  print(p.text)"
   ]
  },
  {
   "cell_type": "code",
   "execution_count": 39,
   "id": "6468d999",
   "metadata": {},
   "outputs": [],
   "source": [
    "for a in links:\n",
    "  print(a.text)"
   ]
  },
  {
   "cell_type": "code",
   "execution_count": 40,
   "id": "634cda1c",
   "metadata": {},
   "outputs": [],
   "source": [
    "points = parse_elements(url, 'li')"
   ]
  },
  {
   "cell_type": "code",
   "execution_count": 41,
   "id": "decd5ad3",
   "metadata": {},
   "outputs": [],
   "source": [
    "for point in points:\n",
    "  print(point.text)"
   ]
  },
  {
   "cell_type": "code",
   "execution_count": 42,
   "id": "51e22bb7",
   "metadata": {},
   "outputs": [],
   "source": [
    "import pandas as pd\n",
    "from urllib.parse import urlparse\n",
    "import numpy as np\n",
    "import nltk.data\n",
    "from requests_html import HTMLSession"
   ]
  },
  {
   "cell_type": "code",
   "execution_count": 43,
   "id": "0f4841f5",
   "metadata": {},
   "outputs": [],
   "source": [
    "def get_and_parse(url):\n",
    "  response = requests.get(url)\n",
    "\n",
    "# Parse the HTML content with Beautiful Soup\n",
    "  soup = BeautifulSoup(response.content, 'html.parser')\n",
    "\n",
    "# Remove unwanted elements (script, style, comments, etc.)\n",
    "  for element in soup(['script', 'style', 'comment']):\n",
    "      element.extract()\n",
    "\n",
    "# Extract the visible text\n",
    "  text = soup.get_text(separator=' ')\n",
    "  return text"
   ]
  },
  {
   "cell_type": "code",
   "execution_count": 44,
   "id": "62bc5acb",
   "metadata": {},
   "outputs": [],
   "source": [
    "def parse_elements(url,element):\n",
    "    session = HTMLSession()\n",
    "    r = session.get(url)\n",
    "    elements = r.html.find(element)\n",
    "    return elements"
   ]
  },
  {
   "cell_type": "code",
   "execution_count": 45,
   "id": "db994c32",
   "metadata": {},
   "outputs": [],
   "source": [
    "# create the word sentiment detection by defining the words from the article that interest the most\n",
    "def sentiment_detection(sentence):\n",
    "    positive_words = ('happy', 'hope', 'photosynthesise', 'triumphant', 'support', 'beautiful')\n",
    "    negative_words = ('dying', 'threatened', 'pollution', 'phenomenon', 'bleaching', 'pressure')\n",
    "\n",
    "    positive = any(sentence.count(i) > 0 for i in positive_words)\n",
    "    negative = any(sentence.count(i) > 0 for i in negative_words)\n",
    "\n",
    "    if positive == negative == False:\n",
    "        return \"neutral\"\n",
    "    elif positive != negative:\n",
    "        return \"positive\" if positive else \"negative\"\n",
    "    else:\n",
    "        return \"mixed\""
   ]
  },
  {
   "cell_type": "code",
   "execution_count": 46,
   "id": "f38714da",
   "metadata": {},
   "outputs": [],
   "source": [
    "#repurpose our sentiment analysis as topic detection\n",
    "#detect are people talking about data science, AI, or data in general?\n",
    "def topic_detection(sentence):\n",
    "    SaveNature_words = ('scientific', 'cover', 'protect', 'conservation', 'identify', 'Biological Diversity', 'biodiversity')\n",
    "    reefs_word = ('reefs', 'corals', 'species', 'sea', 'whales', 'mammals', 'ecosystems', 'MPA', 'UN', 'NOAA')\n",
    "    HelpWords = ('pollution', 'migrating','shapes and sizes','help','policies','kill')\n",
    "    SaveNature = any(sentence.count(i) > 0 for i in SaveNature_words)\n",
    "    reefs = any(sentence.count(i) > 0 for i in reefs_word)\n",
    "    help = any(sentence.count(i) > 0 for i in HelpWords)\n",
    "    topics = []\n",
    "    if SaveNature == True:\n",
    "        topics.append(\"Save Nature\")\n",
    "    if reefs == True:\n",
    "        topics.append(\"reefs\")\n",
    "    if help == True:\n",
    "        topics.append(\"help\")\n",
    "    return topics\n"
   ]
  },
  {
   "cell_type": "code",
   "execution_count": 47,
   "id": "a8ea3007",
   "metadata": {},
   "outputs": [],
   "source": [
    "\n",
    "url = 'https://medium.economist.com/the-worlds-reefs-are-dying-here-s-how-to-save-them-2326bcf2e2af'\n",
    "paragraphs = parse_elements(url, 'p')\n",
    "links = parse_elements(url, 'a')\n"
   ]
  },
  {
   "cell_type": "code",
   "execution_count": 48,
   "id": "3388db1a",
   "metadata": {},
   "outputs": [],
   "source": [
    "#requirements: print out a topic analysis after every paragraph prints out\n",
    "#dictionary that has two lists, one for the paragraphs, and one for topics covered by those paragraphs\n",
    "#print(paragraphs)\n",
    "p_dictionary = {}\n",
    "p_list = []\n",
    "topic_list = []\n",
    "for p in range(0, len(paragraphs)):\n",
    "    if len(paragraphs[p].text) > 50:\n",
    "      #print((paragraphs[p].text))\n",
    "      #print(f\"TALKS ABOUT: {topic_detection(paragraphs[p].text)}\")\n",
    "      p_list.append(paragraphs[p].text)\n",
    "      topic_list.append(topic_detection(paragraphs[p].text))\n",
    "p_dictionary['Paragraphs'] = p_list\n",
    "p_dictionary['Topics'] = topic_list"
   ]
  },
  {
   "cell_type": "code",
   "execution_count": 49,
   "id": "a9679801",
   "metadata": {},
   "outputs": [
    {
     "data": {
      "text/plain": [
       "[['Save Nature', 'reefs'],\n",
       " ['reefs', 'help'],\n",
       " ['reefs'],\n",
       " ['reefs'],\n",
       " ['reefs', 'help'],\n",
       " ['reefs'],\n",
       " ['Save Nature', 'reefs'],\n",
       " ['Save Nature', 'reefs'],\n",
       " ['reefs', 'help'],\n",
       " ['Save Nature', 'reefs'],\n",
       " ['reefs'],\n",
       " ['reefs', 'help'],\n",
       " ['reefs'],\n",
       " ['reefs', 'help'],\n",
       " ['Save Nature', 'reefs'],\n",
       " ['Save Nature', 'reefs'],\n",
       " ['Save Nature', 'reefs', 'help'],\n",
       " ['Save Nature'],\n",
       " ['reefs'],\n",
       " ['reefs'],\n",
       " ['reefs'],\n",
       " ['Save Nature', 'reefs'],\n",
       " ['reefs', 'help'],\n",
       " ['help'],\n",
       " ['Save Nature', 'reefs'],\n",
       " ['reefs', 'help'],\n",
       " ['reefs', 'help'],\n",
       " ['reefs', 'help'],\n",
       " ['reefs', 'help'],\n",
       " ['reefs'],\n",
       " ['reefs', 'help'],\n",
       " []]"
      ]
     },
     "execution_count": 49,
     "metadata": {},
     "output_type": "execute_result"
    }
   ],
   "source": [
    "p_dictionary['Topics']"
   ]
  },
  {
   "cell_type": "code",
   "execution_count": 50,
   "id": "cf4739c1",
   "metadata": {},
   "outputs": [],
   "source": [
    "medium_df = pd.DataFrame(p_dictionary)"
   ]
  },
  {
   "cell_type": "code",
   "execution_count": 51,
   "id": "fcb67344",
   "metadata": {},
   "outputs": [
    {
     "data": {
      "text/html": [
       "<div>\n",
       "<style scoped>\n",
       "    .dataframe tbody tr th:only-of-type {\n",
       "        vertical-align: middle;\n",
       "    }\n",
       "\n",
       "    .dataframe tbody tr th {\n",
       "        vertical-align: top;\n",
       "    }\n",
       "\n",
       "    .dataframe thead th {\n",
       "        text-align: right;\n",
       "    }\n",
       "</style>\n",
       "<table border=\"1\" class=\"dataframe\">\n",
       "  <thead>\n",
       "    <tr style=\"text-align: right;\">\n",
       "      <th></th>\n",
       "      <th>Paragraphs</th>\n",
       "      <th>Topics</th>\n",
       "    </tr>\n",
       "  </thead>\n",
       "  <tbody>\n",
       "    <tr>\n",
       "      <th>0</th>\n",
       "      <td>In this edition of our series on the animal wo...</td>\n",
       "      <td>[Save Nature, reefs]</td>\n",
       "    </tr>\n",
       "    <tr>\n",
       "      <th>1</th>\n",
       "      <td>The waters off the Hawaiian island of Oahu are...</td>\n",
       "      <td>[reefs, help]</td>\n",
       "    </tr>\n",
       "    <tr>\n",
       "      <th>2</th>\n",
       "      <td>The colours that lure snorkelling and scuba-dr...</td>\n",
       "      <td>[reefs]</td>\n",
       "    </tr>\n",
       "    <tr>\n",
       "      <th>3</th>\n",
       "      <td>Reefs will be reduced to bleached-looking skel...</td>\n",
       "      <td>[reefs]</td>\n",
       "    </tr>\n",
       "    <tr>\n",
       "      <th>4</th>\n",
       "      <td>Overfishing, tourism and pollution are the mos...</td>\n",
       "      <td>[reefs, help]</td>\n",
       "    </tr>\n",
       "    <tr>\n",
       "      <th>5</th>\n",
       "      <td>Only twice before has such bleaching occurred ...</td>\n",
       "      <td>[reefs]</td>\n",
       "    </tr>\n",
       "    <tr>\n",
       "      <th>6</th>\n",
       "      <td>Coral reefs are found from the Middle East to ...</td>\n",
       "      <td>[Save Nature, reefs]</td>\n",
       "    </tr>\n",
       "    <tr>\n",
       "      <th>7</th>\n",
       "      <td>In the past half-century, though, these beauti...</td>\n",
       "      <td>[Save Nature, reefs]</td>\n",
       "    </tr>\n",
       "    <tr>\n",
       "      <th>8</th>\n",
       "      <td>More damage is caused by fertiliser-rich run-o...</td>\n",
       "      <td>[reefs, help]</td>\n",
       "    </tr>\n",
       "    <tr>\n",
       "      <th>9</th>\n",
       "      <td>Crown-of-thorns starfish, coral-chompers that ...</td>\n",
       "      <td>[Save Nature, reefs]</td>\n",
       "    </tr>\n",
       "  </tbody>\n",
       "</table>\n",
       "</div>"
      ],
      "text/plain": [
       "                                          Paragraphs                Topics\n",
       "0  In this edition of our series on the animal wo...  [Save Nature, reefs]\n",
       "1  The waters off the Hawaiian island of Oahu are...         [reefs, help]\n",
       "2  The colours that lure snorkelling and scuba-dr...               [reefs]\n",
       "3  Reefs will be reduced to bleached-looking skel...               [reefs]\n",
       "4  Overfishing, tourism and pollution are the mos...         [reefs, help]\n",
       "5  Only twice before has such bleaching occurred ...               [reefs]\n",
       "6  Coral reefs are found from the Middle East to ...  [Save Nature, reefs]\n",
       "7  In the past half-century, though, these beauti...  [Save Nature, reefs]\n",
       "8  More damage is caused by fertiliser-rich run-o...         [reefs, help]\n",
       "9  Crown-of-thorns starfish, coral-chompers that ...  [Save Nature, reefs]"
      ]
     },
     "execution_count": 51,
     "metadata": {},
     "output_type": "execute_result"
    }
   ],
   "source": [
    "medium_df.head(10)"
   ]
  },
  {
   "cell_type": "code",
   "execution_count": 52,
   "id": "8c34c159",
   "metadata": {},
   "outputs": [],
   "source": [
    "medium_df['Character Count'] = medium_df['Paragraphs'].apply(lambda x: len(x))"
   ]
  },
  {
   "cell_type": "code",
   "execution_count": 53,
   "id": "6e56aa3d",
   "metadata": {},
   "outputs": [
    {
     "data": {
      "text/html": [
       "<div>\n",
       "<style scoped>\n",
       "    .dataframe tbody tr th:only-of-type {\n",
       "        vertical-align: middle;\n",
       "    }\n",
       "\n",
       "    .dataframe tbody tr th {\n",
       "        vertical-align: top;\n",
       "    }\n",
       "\n",
       "    .dataframe thead th {\n",
       "        text-align: right;\n",
       "    }\n",
       "</style>\n",
       "<table border=\"1\" class=\"dataframe\">\n",
       "  <thead>\n",
       "    <tr style=\"text-align: right;\">\n",
       "      <th></th>\n",
       "      <th>Paragraphs</th>\n",
       "      <th>Topics</th>\n",
       "      <th>Character Count</th>\n",
       "    </tr>\n",
       "  </thead>\n",
       "  <tbody>\n",
       "    <tr>\n",
       "      <th>0</th>\n",
       "      <td>In this edition of our series on the animal wo...</td>\n",
       "      <td>[Save Nature, reefs]</td>\n",
       "      <td>164</td>\n",
       "    </tr>\n",
       "    <tr>\n",
       "      <th>1</th>\n",
       "      <td>The waters off the Hawaiian island of Oahu are...</td>\n",
       "      <td>[reefs, help]</td>\n",
       "      <td>472</td>\n",
       "    </tr>\n",
       "    <tr>\n",
       "      <th>2</th>\n",
       "      <td>The colours that lure snorkelling and scuba-dr...</td>\n",
       "      <td>[reefs]</td>\n",
       "      <td>413</td>\n",
       "    </tr>\n",
       "    <tr>\n",
       "      <th>3</th>\n",
       "      <td>Reefs will be reduced to bleached-looking skel...</td>\n",
       "      <td>[reefs]</td>\n",
       "      <td>74</td>\n",
       "    </tr>\n",
       "    <tr>\n",
       "      <th>4</th>\n",
       "      <td>Overfishing, tourism and pollution are the mos...</td>\n",
       "      <td>[reefs, help]</td>\n",
       "      <td>648</td>\n",
       "    </tr>\n",
       "    <tr>\n",
       "      <th>5</th>\n",
       "      <td>Only twice before has such bleaching occurred ...</td>\n",
       "      <td>[reefs]</td>\n",
       "      <td>541</td>\n",
       "    </tr>\n",
       "    <tr>\n",
       "      <th>6</th>\n",
       "      <td>Coral reefs are found from the Middle East to ...</td>\n",
       "      <td>[Save Nature, reefs]</td>\n",
       "      <td>696</td>\n",
       "    </tr>\n",
       "    <tr>\n",
       "      <th>7</th>\n",
       "      <td>In the past half-century, though, these beauti...</td>\n",
       "      <td>[Save Nature, reefs]</td>\n",
       "      <td>408</td>\n",
       "    </tr>\n",
       "    <tr>\n",
       "      <th>8</th>\n",
       "      <td>More damage is caused by fertiliser-rich run-o...</td>\n",
       "      <td>[reefs, help]</td>\n",
       "      <td>415</td>\n",
       "    </tr>\n",
       "    <tr>\n",
       "      <th>9</th>\n",
       "      <td>Crown-of-thorns starfish, coral-chompers that ...</td>\n",
       "      <td>[Save Nature, reefs]</td>\n",
       "      <td>388</td>\n",
       "    </tr>\n",
       "  </tbody>\n",
       "</table>\n",
       "</div>"
      ],
      "text/plain": [
       "                                          Paragraphs                Topics  \\\n",
       "0  In this edition of our series on the animal wo...  [Save Nature, reefs]   \n",
       "1  The waters off the Hawaiian island of Oahu are...         [reefs, help]   \n",
       "2  The colours that lure snorkelling and scuba-dr...               [reefs]   \n",
       "3  Reefs will be reduced to bleached-looking skel...               [reefs]   \n",
       "4  Overfishing, tourism and pollution are the mos...         [reefs, help]   \n",
       "5  Only twice before has such bleaching occurred ...               [reefs]   \n",
       "6  Coral reefs are found from the Middle East to ...  [Save Nature, reefs]   \n",
       "7  In the past half-century, though, these beauti...  [Save Nature, reefs]   \n",
       "8  More damage is caused by fertiliser-rich run-o...         [reefs, help]   \n",
       "9  Crown-of-thorns starfish, coral-chompers that ...  [Save Nature, reefs]   \n",
       "\n",
       "   Character Count  \n",
       "0              164  \n",
       "1              472  \n",
       "2              413  \n",
       "3               74  \n",
       "4              648  \n",
       "5              541  \n",
       "6              696  \n",
       "7              408  \n",
       "8              415  \n",
       "9              388  "
      ]
     },
     "execution_count": 53,
     "metadata": {},
     "output_type": "execute_result"
    }
   ],
   "source": [
    "medium_df.head(10)"
   ]
  },
  {
   "cell_type": "code",
   "execution_count": 54,
   "id": "84ce1ac8",
   "metadata": {},
   "outputs": [
    {
     "data": {
      "text/html": [
       "<div>\n",
       "<style scoped>\n",
       "    .dataframe tbody tr th:only-of-type {\n",
       "        vertical-align: middle;\n",
       "    }\n",
       "\n",
       "    .dataframe tbody tr th {\n",
       "        vertical-align: top;\n",
       "    }\n",
       "\n",
       "    .dataframe thead th {\n",
       "        text-align: right;\n",
       "    }\n",
       "</style>\n",
       "<table border=\"1\" class=\"dataframe\">\n",
       "  <thead>\n",
       "    <tr style=\"text-align: right;\">\n",
       "      <th></th>\n",
       "      <th>Paragraphs</th>\n",
       "      <th>Topics</th>\n",
       "      <th>Character Count</th>\n",
       "      <th>Topic Count</th>\n",
       "    </tr>\n",
       "  </thead>\n",
       "  <tbody>\n",
       "    <tr>\n",
       "      <th>0</th>\n",
       "      <td>In this edition of our series on the animal wo...</td>\n",
       "      <td>[Save Nature, reefs]</td>\n",
       "      <td>164</td>\n",
       "      <td>2</td>\n",
       "    </tr>\n",
       "    <tr>\n",
       "      <th>1</th>\n",
       "      <td>The waters off the Hawaiian island of Oahu are...</td>\n",
       "      <td>[reefs, help]</td>\n",
       "      <td>472</td>\n",
       "      <td>2</td>\n",
       "    </tr>\n",
       "    <tr>\n",
       "      <th>2</th>\n",
       "      <td>The colours that lure snorkelling and scuba-dr...</td>\n",
       "      <td>[reefs]</td>\n",
       "      <td>413</td>\n",
       "      <td>1</td>\n",
       "    </tr>\n",
       "    <tr>\n",
       "      <th>3</th>\n",
       "      <td>Reefs will be reduced to bleached-looking skel...</td>\n",
       "      <td>[reefs]</td>\n",
       "      <td>74</td>\n",
       "      <td>1</td>\n",
       "    </tr>\n",
       "    <tr>\n",
       "      <th>4</th>\n",
       "      <td>Overfishing, tourism and pollution are the mos...</td>\n",
       "      <td>[reefs, help]</td>\n",
       "      <td>648</td>\n",
       "      <td>2</td>\n",
       "    </tr>\n",
       "  </tbody>\n",
       "</table>\n",
       "</div>"
      ],
      "text/plain": [
       "                                          Paragraphs                Topics  \\\n",
       "0  In this edition of our series on the animal wo...  [Save Nature, reefs]   \n",
       "1  The waters off the Hawaiian island of Oahu are...         [reefs, help]   \n",
       "2  The colours that lure snorkelling and scuba-dr...               [reefs]   \n",
       "3  Reefs will be reduced to bleached-looking skel...               [reefs]   \n",
       "4  Overfishing, tourism and pollution are the mos...         [reefs, help]   \n",
       "\n",
       "   Character Count  Topic Count  \n",
       "0              164            2  \n",
       "1              472            2  \n",
       "2              413            1  \n",
       "3               74            1  \n",
       "4              648            2  "
      ]
     },
     "execution_count": 54,
     "metadata": {},
     "output_type": "execute_result"
    }
   ],
   "source": [
    "medium_df['Topic Count'] = medium_df['Topics'].apply(len)\n",
    "medium_df.head()"
   ]
  },
  {
   "cell_type": "code",
   "execution_count": 55,
   "id": "a66c7665",
   "metadata": {},
   "outputs": [],
   "source": [
    "medium_df['Sentiment'] = medium_df['Paragraphs'].apply(sentiment_detection)"
   ]
  },
  {
   "cell_type": "code",
   "execution_count": 56,
   "id": "edc2d79b",
   "metadata": {},
   "outputs": [
    {
     "data": {
      "text/html": [
       "<div>\n",
       "<style scoped>\n",
       "    .dataframe tbody tr th:only-of-type {\n",
       "        vertical-align: middle;\n",
       "    }\n",
       "\n",
       "    .dataframe tbody tr th {\n",
       "        vertical-align: top;\n",
       "    }\n",
       "\n",
       "    .dataframe thead th {\n",
       "        text-align: right;\n",
       "    }\n",
       "</style>\n",
       "<table border=\"1\" class=\"dataframe\">\n",
       "  <thead>\n",
       "    <tr style=\"text-align: right;\">\n",
       "      <th></th>\n",
       "      <th>Paragraphs</th>\n",
       "      <th>Topics</th>\n",
       "      <th>Character Count</th>\n",
       "      <th>Topic Count</th>\n",
       "      <th>Sentiment</th>\n",
       "    </tr>\n",
       "  </thead>\n",
       "  <tbody>\n",
       "    <tr>\n",
       "      <th>0</th>\n",
       "      <td>In this edition of our series on the animal wo...</td>\n",
       "      <td>[Save Nature, reefs]</td>\n",
       "      <td>164</td>\n",
       "      <td>2</td>\n",
       "      <td>neutral</td>\n",
       "    </tr>\n",
       "    <tr>\n",
       "      <th>1</th>\n",
       "      <td>The waters off the Hawaiian island of Oahu are...</td>\n",
       "      <td>[reefs, help]</td>\n",
       "      <td>472</td>\n",
       "      <td>2</td>\n",
       "      <td>neutral</td>\n",
       "    </tr>\n",
       "    <tr>\n",
       "      <th>2</th>\n",
       "      <td>The colours that lure snorkelling and scuba-dr...</td>\n",
       "      <td>[reefs]</td>\n",
       "      <td>413</td>\n",
       "      <td>1</td>\n",
       "      <td>negative</td>\n",
       "    </tr>\n",
       "    <tr>\n",
       "      <th>3</th>\n",
       "      <td>Reefs will be reduced to bleached-looking skel...</td>\n",
       "      <td>[reefs]</td>\n",
       "      <td>74</td>\n",
       "      <td>1</td>\n",
       "      <td>neutral</td>\n",
       "    </tr>\n",
       "    <tr>\n",
       "      <th>4</th>\n",
       "      <td>Overfishing, tourism and pollution are the mos...</td>\n",
       "      <td>[reefs, help]</td>\n",
       "      <td>648</td>\n",
       "      <td>2</td>\n",
       "      <td>mixed</td>\n",
       "    </tr>\n",
       "    <tr>\n",
       "      <th>5</th>\n",
       "      <td>Only twice before has such bleaching occurred ...</td>\n",
       "      <td>[reefs]</td>\n",
       "      <td>541</td>\n",
       "      <td>1</td>\n",
       "      <td>negative</td>\n",
       "    </tr>\n",
       "    <tr>\n",
       "      <th>6</th>\n",
       "      <td>Coral reefs are found from the Middle East to ...</td>\n",
       "      <td>[Save Nature, reefs]</td>\n",
       "      <td>696</td>\n",
       "      <td>2</td>\n",
       "      <td>positive</td>\n",
       "    </tr>\n",
       "    <tr>\n",
       "      <th>7</th>\n",
       "      <td>In the past half-century, though, these beauti...</td>\n",
       "      <td>[Save Nature, reefs]</td>\n",
       "      <td>408</td>\n",
       "      <td>2</td>\n",
       "      <td>mixed</td>\n",
       "    </tr>\n",
       "    <tr>\n",
       "      <th>8</th>\n",
       "      <td>More damage is caused by fertiliser-rich run-o...</td>\n",
       "      <td>[reefs, help]</td>\n",
       "      <td>415</td>\n",
       "      <td>2</td>\n",
       "      <td>neutral</td>\n",
       "    </tr>\n",
       "    <tr>\n",
       "      <th>9</th>\n",
       "      <td>Crown-of-thorns starfish, coral-chompers that ...</td>\n",
       "      <td>[Save Nature, reefs]</td>\n",
       "      <td>388</td>\n",
       "      <td>2</td>\n",
       "      <td>neutral</td>\n",
       "    </tr>\n",
       "  </tbody>\n",
       "</table>\n",
       "</div>"
      ],
      "text/plain": [
       "                                          Paragraphs                Topics  \\\n",
       "0  In this edition of our series on the animal wo...  [Save Nature, reefs]   \n",
       "1  The waters off the Hawaiian island of Oahu are...         [reefs, help]   \n",
       "2  The colours that lure snorkelling and scuba-dr...               [reefs]   \n",
       "3  Reefs will be reduced to bleached-looking skel...               [reefs]   \n",
       "4  Overfishing, tourism and pollution are the mos...         [reefs, help]   \n",
       "5  Only twice before has such bleaching occurred ...               [reefs]   \n",
       "6  Coral reefs are found from the Middle East to ...  [Save Nature, reefs]   \n",
       "7  In the past half-century, though, these beauti...  [Save Nature, reefs]   \n",
       "8  More damage is caused by fertiliser-rich run-o...         [reefs, help]   \n",
       "9  Crown-of-thorns starfish, coral-chompers that ...  [Save Nature, reefs]   \n",
       "\n",
       "   Character Count  Topic Count Sentiment  \n",
       "0              164            2   neutral  \n",
       "1              472            2   neutral  \n",
       "2              413            1  negative  \n",
       "3               74            1   neutral  \n",
       "4              648            2     mixed  \n",
       "5              541            1  negative  \n",
       "6              696            2  positive  \n",
       "7              408            2     mixed  \n",
       "8              415            2   neutral  \n",
       "9              388            2   neutral  "
      ]
     },
     "execution_count": 56,
     "metadata": {},
     "output_type": "execute_result"
    }
   ],
   "source": [
    "medium_df.head(10)"
   ]
  },
  {
   "cell_type": "code",
   "execution_count": 57,
   "id": "89a1013d",
   "metadata": {},
   "outputs": [
    {
     "name": "stdout",
     "output_type": "stream",
     "text": [
      "neutral     24\n",
      "negative     3\n",
      "mixed        3\n",
      "positive     2\n",
      "Name: Sentiment, dtype: int64\n",
      "[24, 3, 3, 2]\n",
      "['neutral', 'negative', 'mixed', 'positive']\n"
     ]
    }
   ],
   "source": [
    "# where the topic words are used and the amount that includes in sentences\n",
    "category_amount = medium_df['Sentiment'].value_counts()\n",
    "print(category_amount)\n",
    "print(list(category_amount))\n",
    "print(list(category_amount.keys()))"
   ]
  },
  {
   "cell_type": "code",
   "execution_count": 58,
   "id": "5178b1a2",
   "metadata": {},
   "outputs": [],
   "source": [
    "medium_df['reefs'] = np.where('reefs' in medium_df['Topics'][0], 1, 0)"
   ]
  },
  {
   "cell_type": "code",
   "execution_count": 59,
   "id": "14aab210",
   "metadata": {},
   "outputs": [
    {
     "data": {
      "text/html": [
       "<div>\n",
       "<style scoped>\n",
       "    .dataframe tbody tr th:only-of-type {\n",
       "        vertical-align: middle;\n",
       "    }\n",
       "\n",
       "    .dataframe tbody tr th {\n",
       "        vertical-align: top;\n",
       "    }\n",
       "\n",
       "    .dataframe thead th {\n",
       "        text-align: right;\n",
       "    }\n",
       "</style>\n",
       "<table border=\"1\" class=\"dataframe\">\n",
       "  <thead>\n",
       "    <tr style=\"text-align: right;\">\n",
       "      <th></th>\n",
       "      <th>Paragraphs</th>\n",
       "      <th>Topics</th>\n",
       "      <th>Character Count</th>\n",
       "      <th>Topic Count</th>\n",
       "      <th>Sentiment</th>\n",
       "      <th>reefs</th>\n",
       "    </tr>\n",
       "  </thead>\n",
       "  <tbody>\n",
       "    <tr>\n",
       "      <th>0</th>\n",
       "      <td>In this edition of our series on the animal wo...</td>\n",
       "      <td>[Save Nature, reefs]</td>\n",
       "      <td>164</td>\n",
       "      <td>2</td>\n",
       "      <td>neutral</td>\n",
       "      <td>1</td>\n",
       "    </tr>\n",
       "    <tr>\n",
       "      <th>1</th>\n",
       "      <td>The waters off the Hawaiian island of Oahu are...</td>\n",
       "      <td>[reefs, help]</td>\n",
       "      <td>472</td>\n",
       "      <td>2</td>\n",
       "      <td>neutral</td>\n",
       "      <td>1</td>\n",
       "    </tr>\n",
       "    <tr>\n",
       "      <th>2</th>\n",
       "      <td>The colours that lure snorkelling and scuba-dr...</td>\n",
       "      <td>[reefs]</td>\n",
       "      <td>413</td>\n",
       "      <td>1</td>\n",
       "      <td>negative</td>\n",
       "      <td>1</td>\n",
       "    </tr>\n",
       "    <tr>\n",
       "      <th>3</th>\n",
       "      <td>Reefs will be reduced to bleached-looking skel...</td>\n",
       "      <td>[reefs]</td>\n",
       "      <td>74</td>\n",
       "      <td>1</td>\n",
       "      <td>neutral</td>\n",
       "      <td>1</td>\n",
       "    </tr>\n",
       "    <tr>\n",
       "      <th>4</th>\n",
       "      <td>Overfishing, tourism and pollution are the mos...</td>\n",
       "      <td>[reefs, help]</td>\n",
       "      <td>648</td>\n",
       "      <td>2</td>\n",
       "      <td>mixed</td>\n",
       "      <td>1</td>\n",
       "    </tr>\n",
       "    <tr>\n",
       "      <th>5</th>\n",
       "      <td>Only twice before has such bleaching occurred ...</td>\n",
       "      <td>[reefs]</td>\n",
       "      <td>541</td>\n",
       "      <td>1</td>\n",
       "      <td>negative</td>\n",
       "      <td>1</td>\n",
       "    </tr>\n",
       "    <tr>\n",
       "      <th>6</th>\n",
       "      <td>Coral reefs are found from the Middle East to ...</td>\n",
       "      <td>[Save Nature, reefs]</td>\n",
       "      <td>696</td>\n",
       "      <td>2</td>\n",
       "      <td>positive</td>\n",
       "      <td>1</td>\n",
       "    </tr>\n",
       "    <tr>\n",
       "      <th>7</th>\n",
       "      <td>In the past half-century, though, these beauti...</td>\n",
       "      <td>[Save Nature, reefs]</td>\n",
       "      <td>408</td>\n",
       "      <td>2</td>\n",
       "      <td>mixed</td>\n",
       "      <td>1</td>\n",
       "    </tr>\n",
       "    <tr>\n",
       "      <th>8</th>\n",
       "      <td>More damage is caused by fertiliser-rich run-o...</td>\n",
       "      <td>[reefs, help]</td>\n",
       "      <td>415</td>\n",
       "      <td>2</td>\n",
       "      <td>neutral</td>\n",
       "      <td>1</td>\n",
       "    </tr>\n",
       "    <tr>\n",
       "      <th>9</th>\n",
       "      <td>Crown-of-thorns starfish, coral-chompers that ...</td>\n",
       "      <td>[Save Nature, reefs]</td>\n",
       "      <td>388</td>\n",
       "      <td>2</td>\n",
       "      <td>neutral</td>\n",
       "      <td>1</td>\n",
       "    </tr>\n",
       "  </tbody>\n",
       "</table>\n",
       "</div>"
      ],
      "text/plain": [
       "                                          Paragraphs                Topics  \\\n",
       "0  In this edition of our series on the animal wo...  [Save Nature, reefs]   \n",
       "1  The waters off the Hawaiian island of Oahu are...         [reefs, help]   \n",
       "2  The colours that lure snorkelling and scuba-dr...               [reefs]   \n",
       "3  Reefs will be reduced to bleached-looking skel...               [reefs]   \n",
       "4  Overfishing, tourism and pollution are the mos...         [reefs, help]   \n",
       "5  Only twice before has such bleaching occurred ...               [reefs]   \n",
       "6  Coral reefs are found from the Middle East to ...  [Save Nature, reefs]   \n",
       "7  In the past half-century, though, these beauti...  [Save Nature, reefs]   \n",
       "8  More damage is caused by fertiliser-rich run-o...         [reefs, help]   \n",
       "9  Crown-of-thorns starfish, coral-chompers that ...  [Save Nature, reefs]   \n",
       "\n",
       "   Character Count  Topic Count Sentiment  reefs  \n",
       "0              164            2   neutral      1  \n",
       "1              472            2   neutral      1  \n",
       "2              413            1  negative      1  \n",
       "3               74            1   neutral      1  \n",
       "4              648            2     mixed      1  \n",
       "5              541            1  negative      1  \n",
       "6              696            2  positive      1  \n",
       "7              408            2     mixed      1  \n",
       "8              415            2   neutral      1  \n",
       "9              388            2   neutral      1  "
      ]
     },
     "execution_count": 59,
     "metadata": {},
     "output_type": "execute_result"
    }
   ],
   "source": [
    "medium_df.head(10)"
   ]
  },
  {
   "cell_type": "code",
   "execution_count": 60,
   "id": "b1f7ff1e",
   "metadata": {},
   "outputs": [],
   "source": [
    "medium_df['help'] = medium_df['Topics'].apply(lambda x:1 if 'help' in x else 0)"
   ]
  },
  {
   "cell_type": "code",
   "execution_count": 61,
   "id": "83f852ec",
   "metadata": {},
   "outputs": [
    {
     "data": {
      "text/html": [
       "<div>\n",
       "<style scoped>\n",
       "    .dataframe tbody tr th:only-of-type {\n",
       "        vertical-align: middle;\n",
       "    }\n",
       "\n",
       "    .dataframe tbody tr th {\n",
       "        vertical-align: top;\n",
       "    }\n",
       "\n",
       "    .dataframe thead th {\n",
       "        text-align: right;\n",
       "    }\n",
       "</style>\n",
       "<table border=\"1\" class=\"dataframe\">\n",
       "  <thead>\n",
       "    <tr style=\"text-align: right;\">\n",
       "      <th></th>\n",
       "      <th>Paragraphs</th>\n",
       "      <th>Topics</th>\n",
       "      <th>Character Count</th>\n",
       "      <th>Topic Count</th>\n",
       "      <th>Sentiment</th>\n",
       "      <th>reefs</th>\n",
       "      <th>help</th>\n",
       "    </tr>\n",
       "  </thead>\n",
       "  <tbody>\n",
       "    <tr>\n",
       "      <th>0</th>\n",
       "      <td>In this edition of our series on the animal wo...</td>\n",
       "      <td>[Save Nature, reefs]</td>\n",
       "      <td>164</td>\n",
       "      <td>2</td>\n",
       "      <td>neutral</td>\n",
       "      <td>1</td>\n",
       "      <td>0</td>\n",
       "    </tr>\n",
       "    <tr>\n",
       "      <th>1</th>\n",
       "      <td>The waters off the Hawaiian island of Oahu are...</td>\n",
       "      <td>[reefs, help]</td>\n",
       "      <td>472</td>\n",
       "      <td>2</td>\n",
       "      <td>neutral</td>\n",
       "      <td>1</td>\n",
       "      <td>1</td>\n",
       "    </tr>\n",
       "    <tr>\n",
       "      <th>2</th>\n",
       "      <td>The colours that lure snorkelling and scuba-dr...</td>\n",
       "      <td>[reefs]</td>\n",
       "      <td>413</td>\n",
       "      <td>1</td>\n",
       "      <td>negative</td>\n",
       "      <td>1</td>\n",
       "      <td>0</td>\n",
       "    </tr>\n",
       "    <tr>\n",
       "      <th>3</th>\n",
       "      <td>Reefs will be reduced to bleached-looking skel...</td>\n",
       "      <td>[reefs]</td>\n",
       "      <td>74</td>\n",
       "      <td>1</td>\n",
       "      <td>neutral</td>\n",
       "      <td>1</td>\n",
       "      <td>0</td>\n",
       "    </tr>\n",
       "    <tr>\n",
       "      <th>4</th>\n",
       "      <td>Overfishing, tourism and pollution are the mos...</td>\n",
       "      <td>[reefs, help]</td>\n",
       "      <td>648</td>\n",
       "      <td>2</td>\n",
       "      <td>mixed</td>\n",
       "      <td>1</td>\n",
       "      <td>1</td>\n",
       "    </tr>\n",
       "    <tr>\n",
       "      <th>5</th>\n",
       "      <td>Only twice before has such bleaching occurred ...</td>\n",
       "      <td>[reefs]</td>\n",
       "      <td>541</td>\n",
       "      <td>1</td>\n",
       "      <td>negative</td>\n",
       "      <td>1</td>\n",
       "      <td>0</td>\n",
       "    </tr>\n",
       "    <tr>\n",
       "      <th>6</th>\n",
       "      <td>Coral reefs are found from the Middle East to ...</td>\n",
       "      <td>[Save Nature, reefs]</td>\n",
       "      <td>696</td>\n",
       "      <td>2</td>\n",
       "      <td>positive</td>\n",
       "      <td>1</td>\n",
       "      <td>0</td>\n",
       "    </tr>\n",
       "    <tr>\n",
       "      <th>7</th>\n",
       "      <td>In the past half-century, though, these beauti...</td>\n",
       "      <td>[Save Nature, reefs]</td>\n",
       "      <td>408</td>\n",
       "      <td>2</td>\n",
       "      <td>mixed</td>\n",
       "      <td>1</td>\n",
       "      <td>0</td>\n",
       "    </tr>\n",
       "    <tr>\n",
       "      <th>8</th>\n",
       "      <td>More damage is caused by fertiliser-rich run-o...</td>\n",
       "      <td>[reefs, help]</td>\n",
       "      <td>415</td>\n",
       "      <td>2</td>\n",
       "      <td>neutral</td>\n",
       "      <td>1</td>\n",
       "      <td>1</td>\n",
       "    </tr>\n",
       "    <tr>\n",
       "      <th>9</th>\n",
       "      <td>Crown-of-thorns starfish, coral-chompers that ...</td>\n",
       "      <td>[Save Nature, reefs]</td>\n",
       "      <td>388</td>\n",
       "      <td>2</td>\n",
       "      <td>neutral</td>\n",
       "      <td>1</td>\n",
       "      <td>0</td>\n",
       "    </tr>\n",
       "  </tbody>\n",
       "</table>\n",
       "</div>"
      ],
      "text/plain": [
       "                                          Paragraphs                Topics  \\\n",
       "0  In this edition of our series on the animal wo...  [Save Nature, reefs]   \n",
       "1  The waters off the Hawaiian island of Oahu are...         [reefs, help]   \n",
       "2  The colours that lure snorkelling and scuba-dr...               [reefs]   \n",
       "3  Reefs will be reduced to bleached-looking skel...               [reefs]   \n",
       "4  Overfishing, tourism and pollution are the mos...         [reefs, help]   \n",
       "5  Only twice before has such bleaching occurred ...               [reefs]   \n",
       "6  Coral reefs are found from the Middle East to ...  [Save Nature, reefs]   \n",
       "7  In the past half-century, though, these beauti...  [Save Nature, reefs]   \n",
       "8  More damage is caused by fertiliser-rich run-o...         [reefs, help]   \n",
       "9  Crown-of-thorns starfish, coral-chompers that ...  [Save Nature, reefs]   \n",
       "\n",
       "   Character Count  Topic Count Sentiment  reefs  help  \n",
       "0              164            2   neutral      1     0  \n",
       "1              472            2   neutral      1     1  \n",
       "2              413            1  negative      1     0  \n",
       "3               74            1   neutral      1     0  \n",
       "4              648            2     mixed      1     1  \n",
       "5              541            1  negative      1     0  \n",
       "6              696            2  positive      1     0  \n",
       "7              408            2     mixed      1     0  \n",
       "8              415            2   neutral      1     1  \n",
       "9              388            2   neutral      1     0  "
      ]
     },
     "execution_count": 61,
     "metadata": {},
     "output_type": "execute_result"
    }
   ],
   "source": [
    "medium_df.head(10)"
   ]
  },
  {
   "cell_type": "code",
   "execution_count": 62,
   "id": "d93a64d7",
   "metadata": {},
   "outputs": [
    {
     "data": {
      "image/png": "[encoded data removed]",
      "text/plain": [
       "<Figure size 640x480 with 1 Axes>"
      ]
     },
     "metadata": {},
     "output_type": "display_data"
    }
   ],
   "source": [
    "import matplotlib.pyplot as plt\n",
    "\n",
    "#find out the interactions of topics in the article\n",
    "\n",
    "# Extract category names and corresponding amounts\n",
    "#categories = list(category_amount.keys())\n",
    "#amounts = list(category_amount.values())\n",
    "\n",
    "# Plotting the bar graph\n",
    "plt.bar(list(category_amount.keys()), list(category_amount))\n",
    "\n",
    "# Customize the plot\n",
    "plt.xlabel('Sentiment')\n",
    "plt.ylabel('Total Count')\n",
    "plt.title('Total count of sentiment')\n",
    "plt.xticks(rotation=45)\n",
    "\n",
    "# Show the plot\n",
    "plt.show()"
   ]
  },
  {
   "cell_type": "code",
   "execution_count": 63,
   "id": "48ad2f58",
   "metadata": {},
   "outputs": [],
   "source": [
    "topic_counts = [medium_df['reefs'].sum(), medium_df['help'].sum()]\n",
    "topic_labels = ['reefs', 'help']"
   ]
  },
  {
   "cell_type": "code",
   "execution_count": 64,
   "id": "1df131d4",
   "metadata": {
    "scrolled": false
   },
   "outputs": [
    {
     "data": {
      "image/png": "[encoded data removed]",
      "text/plain": [
       "<Figure size 640x480 with 1 Axes>"
      ]
     },
     "metadata": {},
     "output_type": "display_data"
    }
   ],
   "source": [
    "# Plotting the bar graph for finding out what topic is mostly used in the article\n",
    "plt.bar(topic_labels, topic_counts)\n",
    "\n",
    "# Customize the plot\n",
    "plt.xlabel('Topics')\n",
    "plt.ylabel('Total Count')\n",
    "plt.title('Total count of topics')\n",
    "plt.xticks(rotation=45)\n",
    "\n",
    "# Show the plot\n",
    "plt.show()"
   ]
  },
  {
   "cell_type": "code",
   "execution_count": 72,
   "id": "e1712e90",
   "metadata": {},
   "outputs": [
    {
     "name": "stderr",
     "output_type": "stream",
     "text": [
      "'(ReadTimeoutError(\"HTTPSConnectionPool(host='huggingface.co', port=443): Read timed out. (read timeout=10)\"), '(Request ID: 24484ffb-37af-4a09-bc97-676fdaef75e3)')' thrown while requesting HEAD https://huggingface.co/jonaskoenig/topic_classification_04/resolve/main/config.json\n",
      "Some layers from the model checkpoint at jonaskoenig/topic_classification_04 were not used when initializing TFBertForSequenceClassification: ['dropout_19']\n",
      "- This IS expected if you are initializing TFBertForSequenceClassification from the checkpoint of a model trained on another task or with another architecture (e.g. initializing a BertForSequenceClassification model from a BertForPreTraining model).\n",
      "- This IS NOT expected if you are initializing TFBertForSequenceClassification from the checkpoint of a model that you expect to be exactly identical (initializing a BertForSequenceClassification model from a BertForSequenceClassification model).\n",
      "All the layers of TFBertForSequenceClassification were initialized from the model checkpoint at jonaskoenig/topic_classification_04.\n",
      "If your task is similar to the task the model of the checkpoint was trained on, you can already use TFBertForSequenceClassification for predictions without further training.\n"
     ]
    }
   ],
   "source": [
    "# Use a pipeline as a high-level helper\n",
    "# reflects text to the topics indicated and gives the probability of how close its to the mentioned topics\n",
    "from transformers import pipeline\n",
    "\n",
    "pipe = pipeline(\"text-classification\", model=\"jonaskoenig/topic_classification_04\")"
   ]
  },
  {
   "cell_type": "code",
   "execution_count": 73,
   "id": "7786c681",
   "metadata": {},
   "outputs": [
    {
     "name": "stderr",
     "output_type": "stream",
     "text": [
      "'(ReadTimeoutError(\"HTTPSConnectionPool(host='huggingface.co', port=443): Read timed out. (read timeout=10)\"), '(Request ID: a89eb9d5-248d-441c-ba93-291ddfbc4d9a)')' thrown while requesting HEAD https://huggingface.co/jonaskoenig/topic_classification_04/resolve/main/tokenizer_config.json\n",
      "All TF 2.0 model weights were used when initializing BertForSequenceClassification.\n",
      "\n",
      "All the weights of BertForSequenceClassification were initialized from the TF 2.0 model.\n",
      "If your task is similar to the task the model of the checkpoint was trained on, you can already use BertForSequenceClassification for predictions without further training.\n"
     ]
    }
   ],
   "source": [
    "from transformers import AutoTokenizer, AutoModelForSequenceClassification\n",
    "\n",
    "tokenizer = AutoTokenizer.from_pretrained(\"jonaskoenig/topic_classification_04\")\n",
    "model = AutoModelForSequenceClassification.from_pretrained(\"jonaskoenig/topic_classification_04\", from_tf=True)"
   ]
  },
  {
   "cell_type": "code",
   "execution_count": 74,
   "id": "b1db51fe",
   "metadata": {},
   "outputs": [
    {
     "name": "stdout",
     "output_type": "stream",
     "text": [
      "[{'label': 'Science & Mathematics', 'score': 0.9889791011810303}]\n"
     ]
    }
   ],
   "source": [
    "result = pipe(\" The aim is to have at least 17% of inland water and 10% of coastal and marine areas under conservation by 2020. Most countries have signed up. But the targets are far from being met. Less than 3% of the ocean’s surface is within an MPA.\")\n",
    "print(result)"
   ]
  },
  {
   "cell_type": "code",
   "execution_count": 75,
   "id": "f49e3fba",
   "metadata": {},
   "outputs": [
    {
     "name": "stdout",
     "output_type": "stream",
     "text": [
      "[{'label': 'Science & Mathematics', 'score': 0.9986090064048767}]\n"
     ]
    }
   ],
   "source": [
    "result = pipe(\" So researchers are turning their attention to ways to help corals cope. Their global diversity, scientists hope, may hold the key. The same coral will grow differently under different conditions: corals of the western Pacific near Indonesia, for example, can withstand higher temperatures than the same species in the eastern Pacific near Hawaii. \")\n",
    "print(result)"
   ]
  },
  {
   "cell_type": "code",
   "execution_count": 76,
   "id": "aaa46269",
   "metadata": {},
   "outputs": [
    {
     "name": "stdout",
     "output_type": "stream",
     "text": [
      "[{'label': 'Politics & Government', 'score': 0.9958570599555969}]\n"
     ]
    }
   ],
   "source": [
    "result = pipe(\"Averting a tragedy of the commons means agreeing which activities should be restricted and enforcing the rules.\")\n",
    "print(result)"
   ]
  },
  {
   "cell_type": "code",
   "execution_count": 77,
   "id": "3d108488",
   "metadata": {},
   "outputs": [
    {
     "name": "stdout",
     "output_type": "stream",
     "text": [
      "[{'label': 'Sports', 'score': 0.9110352993011475}]\n"
     ]
    }
   ],
   "source": [
    "result = pipe(\" Hotels close to the shore may be convenient for tourists, but the process of building them can kill the reefs that snorkellers like to swim over.\")\n",
    "print(result)"
   ]
  },
  {
   "cell_type": "code",
   "execution_count": 78,
   "id": "e76e18bb",
   "metadata": {},
   "outputs": [
    {
     "ename": "NameError",
     "evalue": "name 'inputs' is not defined",
     "output_type": "error",
     "traceback": [
      "\u001b[0;31m---------------------------------------------------------------------------\u001b[0m",
      "\u001b[0;31mNameError\u001b[0m                                 Traceback (most recent call last)",
      "Cell \u001b[0;32mIn[78], line 1\u001b[0m\n\u001b[0;32m----> 1\u001b[0m inputs\n",
      "\u001b[0;31mNameError\u001b[0m: name 'inputs' is not defined"
     ]
    }
   ],
   "source": [
    "inputs"
   ]
  },
  {
   "cell_type": "code",
   "execution_count": 47,
   "id": "0eeca959",
   "metadata": {},
   "outputs": [
    {
     "data": {
      "text/plain": [
       "tensor([[ 1.4518,  3.0202, -2.3974,  0.3862,  1.4785, -4.2111,  0.4622, -0.9270,\n",
       "         -1.6790,  1.7816]], grad_fn=<AddmmBackward0>)"
      ]
     },
     "execution_count": 47,
     "metadata": {},
     "output_type": "execute_result"
    }
   ],
   "source": [
    "outputs = model(**inputs)\n",
    "#print(outputs)\n",
    "logits = outputs.logits\n",
    "logits"
   ]
  },
  {
   "cell_type": "code",
   "execution_count": 51,
   "id": "fce5e848",
   "metadata": {},
   "outputs": [
    {
     "name": "stdout",
     "output_type": "stream",
     "text": [
      "0.10995971411466599\n",
      "0.5277029871940613\n",
      "0.002341807121410966\n",
      "0.03788506239652634\n",
      "0.11293776333332062\n",
      "0.00038183387368917465\n",
      "0.040875159204006195\n",
      "0.010189737193286419\n",
      "0.0048036882653832436\n",
      "0.15292222797870636\n"
     ]
    }
   ],
   "source": [
    "# find the probability\n",
    "probabilities = logits.softmax(dim=1)\n",
    "#list((probabilities[0])).index(max(list((probabilities[0]))))\n",
    "\n",
    "\n",
    "probabilities = list(probabilities[0])\n",
    "for i in range(0,len(probabilities)):\n",
    "  print(probabilities[i].item())"
   ]
  },
  {
   "cell_type": "code",
   "execution_count": 53,
   "id": "797adde2",
   "metadata": {},
   "outputs": [],
   "source": [
    "def classify_text(some_text):\n",
    "  categories = {0: 'society and culture',\n",
    "1:'Science',\n",
    "2:'Health',\n",
    "3:'education',\n",
    "4:'Computers and Internet',\n",
    "5:'sports',\n",
    "6:'Finance',\n",
    "7: 'Entertainment and Music',\n",
    "8:'Family and Relationships',\n",
    "9:'Politics and Government'}\n",
    "  inputs = tokenizer.encode_plus(some_text, padding=\"longest\", truncation=True, return_tensors=\"pt\")\n",
    "  outputs = model(**inputs)\n",
    "  logits = outputs.logits\n",
    "  probabilities = logits.softmax(dim=1)\n",
    "  #suppose that one of the probabilities is greater than .6, then we will say that is the only topic being discussed\n",
    "  if max(list((probabilities[0]))) > .6:\n",
    "    index = list((probabilities[0])).index(max(list((probabilities[0]))))\n",
    "    return categories[index]\n",
    "  else:\n",
    "    #if none of them are beyond .6, then we will return a number of topics sorted by the probability of that topic\n",
    "    #provided that they are beyond .1 probability\n",
    "    probabilities = list(probabilities[0])\n",
    "    print((probabilities))\n",
    "    prob_list = []\n",
    "    categories_list = []\n",
    "    for i in range(0,len(probabilities)):\n",
    "      prob_list.append(probabilities[i].item())\n",
    "    prob_list = prob_list.sort()\n",
    "    for i in range(0,len(probabilities)):\n",
    "        if probabilities[i].item() > .1:\n",
    "          categories_list.append(categories[probabilities[i].item()])\n",
    "          #print(categories[i])\n",
    "\n",
    "    return categories_list\n"
   ]
  },
  {
   "cell_type": "code",
   "execution_count": 54,
   "id": "ef0f09db",
   "metadata": {},
   "outputs": [],
   "source": [
    "\n",
    "#example of the function that works.\n",
    "def classify_text(some_text):\n",
    "  categories = {0: 'society and culture',\n",
    "1:'Science',\n",
    "2:'Health',\n",
    "3:'education',\n",
    "4:'Computers and Internet',\n",
    "5:'sports',\n",
    "6:'Finance',\n",
    "7: 'Entertainment and Music',\n",
    "8:'Family and Relationships',\n",
    "9:'Politics and Government'}\n",
    "  prob_diction = {}\n",
    "  inputs = tokenizer.encode_plus(some_text, padding=\"longest\", truncation=True, return_tensors=\"pt\")\n",
    "  outputs = model(**inputs)\n",
    "  logits = outputs.logits\n",
    "  probabilities = logits.softmax(dim=1)\n",
    "  probabilities = list(probabilities[0])\n",
    "  returned_list = []\n",
    "  for i in range(0,len(probabilities)):\n",
    "      prob_diction[categories[i]] = probabilities[i].item()\n",
    "  if max(prob_diction.values()) > .6:\n",
    "    return max(prob_diction, key=lambda k: prob_diction[k])\n",
    "  else:\n",
    "    filtered_diction = {key: value for key, value in prob_diction.items() if value > 0.1}\n",
    "    sorted_diction = dict(sorted(filtered_diction.items(), key=lambda x: x[1], reverse = True))\n",
    "    topic_list = []\n",
    "    for i in sorted_diction:\n",
    "      topic_list.append(i)\n",
    "    return topic_list"
   ]
  },
  {
   "cell_type": "code",
   "execution_count": 55,
   "id": "93fd336a",
   "metadata": {},
   "outputs": [
    {
     "name": "stdout",
     "output_type": "stream",
     "text": [
      "['Science', 'Politics and Government', 'Computers and Internet', 'society and culture']\n"
     ]
    }
   ],
   "source": [
    "classify_diction = (classify_text(text))\n",
    "print(classify_diction)"
   ]
  },
  {
   "cell_type": "code",
   "execution_count": 57,
   "id": "7d42d8ac",
   "metadata": {},
   "outputs": [
    {
     "name": "stdout",
     "output_type": "stream",
     "text": [
      "['Politics and Government', 'education', 'Finance']\n"
     ]
    }
   ],
   "source": [
    "print(classify_text(\"The mix of problems varies from place to place, meaning policies must be locally tailored to tackle them. \"))"
   ]
  },
  {
   "cell_type": "code",
   "execution_count": 58,
   "id": "de4fed36",
   "metadata": {},
   "outputs": [
    {
     "name": "stdout",
     "output_type": "stream",
     "text": [
      "['Science', 'sports', 'education']\n"
     ]
    }
   ],
   "source": [
    "print(classify_text('The colours that lure snorkelling and scuba-driving tourists are produced by single-celled algae that grow symbiotically in corals’ tissue. \"))"
   ]
  },
  {
   "cell_type": "code",
   "execution_count": 102,
   "id": "3bad01d7",
   "metadata": {},
   "outputs": [
    {
     "data": {
      "application/vnd.jupyter.widget-view+json": {
       "model_id": "",
       "version_major": 2,
       "version_minor": 0
      },
      "text/plain": [
       "Downloading (…)lve/main/config.json:   0%|          | 0.00/1.58k [00:00<?, ?B/s]"
      ]
     },
     "metadata": {},
     "output_type": "display_data"
    },
    {
     "data": {
      "application/vnd.jupyter.widget-view+json": {
       "model_id": "",
       "version_major": 2,
       "version_minor": 0
      },
      "text/plain": [
       "Downloading pytorch_model.bin:   0%|          | 0.00/1.63G [00:00<?, ?B/s]"
      ]
     },
     "metadata": {},
     "output_type": "display_data"
    },
    {
     "data": {
      "application/vnd.jupyter.widget-view+json": {
       "model_id": "",
       "version_major": 2,
       "version_minor": 0
      },
      "text/plain": [
       "Downloading (…)neration_config.json:   0%|          | 0.00/363 [00:00<?, ?B/s]"
      ]
     },
     "metadata": {},
     "output_type": "display_data"
    },
    {
     "data": {
      "application/vnd.jupyter.widget-view+json": {
       "model_id": "",
       "version_major": 2,
       "version_minor": 0
      },
      "text/plain": [
       "Downloading (…)olve/main/vocab.json:   0%|          | 0.00/899k [00:00<?, ?B/s]"
      ]
     },
     "metadata": {},
     "output_type": "display_data"
    },
    {
     "data": {
      "application/vnd.jupyter.widget-view+json": {
       "model_id": "",
       "version_major": 2,
       "version_minor": 0
      },
      "text/plain": [
       "Downloading (…)olve/main/merges.txt:   0%|          | 0.00/456k [00:00<?, ?B/s]"
      ]
     },
     "metadata": {},
     "output_type": "display_data"
    },
    {
     "data": {
      "application/vnd.jupyter.widget-view+json": {
       "model_id": "",
       "version_major": 2,
       "version_minor": 0
      },
      "text/plain": [
       "Downloading (…)/main/tokenizer.json:   0%|          | 0.00/1.36M [00:00<?, ?B/s]"
      ]
     },
     "metadata": {},
     "output_type": "display_data"
    }
   ],
   "source": [
    "# Use a pipeline as a high-level helper\n",
    "# Use this model for text summarization\n",
    "from transformers import pipeline\n",
    "\n",
    "pipe = pipeline(\"summarization\", model=\"facebook/bart-large-cnn\")"
   ]
  },
  {
   "cell_type": "code",
   "execution_count": 103,
   "id": "7c0aa4b2",
   "metadata": {},
   "outputs": [],
   "source": [
    "# Load model directly\n",
    "from transformers import AutoTokenizer, AutoModelForSeq2SeqLM\n",
    "\n",
    "tokenizer = AutoTokenizer.from_pretrained(\"facebook/bart-large-cnn\")\n",
    "model = AutoModelForSeq2SeqLM.from_pretrained(\"facebook/bart-large-cnn\")"
   ]
  },
  {
   "cell_type": "code",
   "execution_count": 112,
   "id": "e91f84f4",
   "metadata": {},
   "outputs": [
    {
     "name": "stdout",
     "output_type": "stream",
     "text": [
      "[{'summary_text': 'Oceans absorb about 30% of carbon dioxide emitted into the atmosphere. As oceans warm, corals will lose their colourful algae, which can only cope within a narrow range of temperatures. Only twice before has such bleaching occurred worldwide.'}]\n"
     ]
    }
   ],
   "source": [
    "from transformers import pipeline\n",
    "\n",
    "summarizer = pipeline(\"summarization\", model=\"facebook/bart-large-cnn\")\n",
    "\n",
    "ARTICLE = \"\"\" The waters off the Hawaiian island of Oahu are visited each winter by migrating marine mammals such as humpback whales. All year round they are home to much smaller animals that form vast reefs: corals. Intricate pink structures stand out amid contortions of vegetable-green ones; dark-striped fish flit among them and turtles hover above. Corals lay down limestone skeletons of different shapes and sizes: branching types like small trees; ground-huggers spreading squat.\n",
    "The colours that lure snorkelling and scuba-driving tourists are produced by single-celled algae that grow symbiotically in corals’ tissue. These use carbon dioxide respired by their host to make oxygen and carbohydrates through photosynthesis, giving corals most of the energy they need to form their skeletons. But this delicate balance is threatened by humans, both in the short term and over the coming years.\n",
    "Overfishing, tourism and pollution are the most immediate perils, disrupting reefs’ ecosystems and the ability of corals’ algae to photosynthesise. In the longer term, rising levels of greenhouse gases in the atmosphere will hit reefs in two ways. Oceans absorb about 30% of carbon dioxide emitted into the atmosphere, which makes them more acidic; as concentrations of carbon dioxide in the water rise, it will be harder for coral skeletons to calcify. And as oceans warm, corals will lose their colourful algae, which can only cope within a narrow range of temperatures. Reefs will be reduced to bleached-looking skeletons, vulnerable to disease.\n",
    "Only twice before has such bleaching occurred worldwide. The first time coincided with El Niño in 1997–98, the world’s largest climatic phenomenon, which causes surface temperatures to soar in the Pacific Ocean. The second was in 2010. A third is now under way. About 16% of corals died in the 1997–98 disaster. The current bleaching event, once more occurring alongside a Niño, may have affected 38% of the world’s corals. Conditions now may offer a foretaste of the damage climate change could wreak on these already vulnerable ecosystems.\n",
    "\"\"\"\n",
    "print(summarizer(ARTICLE, max_length=130, min_length=30, do_sample=False))\n"
   ]
  },
  {
   "cell_type": "code",
   "execution_count": 113,
   "id": "7a1da235",
   "metadata": {},
   "outputs": [
    {
     "name": "stdout",
     "output_type": "stream",
     "text": [
      "[{'summary_text': 'Team aims to help corals withstand changing ocean temperature and chemistry. ‘We’re assisting evolution,’ says Ruth Gates, who leads the research.'}]\n"
     ]
    }
   ],
   "source": [
    "from transformers import pipeline\n",
    "\n",
    "summarizer = pipeline(\"summarization\", model=\"facebook/bart-large-cnn\")\n",
    "\n",
    "ARTICLE = \"\"\" Organisms respond to environmental changes through both genetic processes (adaptation) and non-genetic ones (acclimatisation). With corals, the nature of their symbiotic relationships can also alter. So selectively breeding and conditioning them, and investigating whether certain types of algae confer resistance to heat or acidity, could create hardier varieties faster than they would develop naturally.\n",
    "These could then be used to repopulate ravaged reefs — once more is known about how and where to transplant them. “We’re assisting evolution,” explains Ruth Gates, who leads the research. Her team aims to help corals withstand changing ocean temperature and chemistry. Despite all her effort, she says: “if the tools we develop are never used, I would be the happiest person in the world.”\"\"\"\n",
    "print(summarizer(ARTICLE, max_length=130, min_length=30, do_sample=False))\n"
   ]
  },
  {
   "cell_type": "code",
   "execution_count": 114,
   "id": "c56aab65",
   "metadata": {},
   "outputs": [
    {
     "data": {
      "application/vnd.jupyter.widget-view+json": {
       "model_id": "",
       "version_major": 2,
       "version_minor": 0
      },
      "text/plain": [
       "Downloading (…)lve/main/config.json:   0%|          | 0.00/3.09k [00:00<?, ?B/s]"
      ]
     },
     "metadata": {},
     "output_type": "display_data"
    },
    {
     "data": {
      "application/vnd.jupyter.widget-view+json": {
       "model_id": "",
       "version_major": 2,
       "version_minor": 0
      },
      "text/plain": [
       "Downloading pytorch_model.bin:   0%|          | 0.00/2.28G [00:00<?, ?B/s]"
      ]
     },
     "metadata": {},
     "output_type": "display_data"
    },
    {
     "name": "stderr",
     "output_type": "stream",
     "text": [
      "Some weights of PegasusForConditionalGeneration were not initialized from the model checkpoint at google/pegasus-large and are newly initialized: ['model.decoder.embed_positions.weight', 'model.encoder.embed_positions.weight']\n",
      "You should probably TRAIN this model on a down-stream task to be able to use it for predictions and inference.\n"
     ]
    },
    {
     "data": {
      "application/vnd.jupyter.widget-view+json": {
       "model_id": "",
       "version_major": 2,
       "version_minor": 0
      },
      "text/plain": [
       "Downloading (…)neration_config.json:   0%|          | 0.00/260 [00:00<?, ?B/s]"
      ]
     },
     "metadata": {},
     "output_type": "display_data"
    },
    {
     "data": {
      "application/vnd.jupyter.widget-view+json": {
       "model_id": "",
       "version_major": 2,
       "version_minor": 0
      },
      "text/plain": [
       "Downloading (…)okenizer_config.json:   0%|          | 0.00/88.0 [00:00<?, ?B/s]"
      ]
     },
     "metadata": {},
     "output_type": "display_data"
    },
    {
     "data": {
      "application/vnd.jupyter.widget-view+json": {
       "model_id": "",
       "version_major": 2,
       "version_minor": 0
      },
      "text/plain": [
       "Downloading (…)ve/main/spiece.model:   0%|          | 0.00/1.91M [00:00<?, ?B/s]"
      ]
     },
     "metadata": {},
     "output_type": "display_data"
    },
    {
     "data": {
      "application/vnd.jupyter.widget-view+json": {
       "model_id": "",
       "version_major": 2,
       "version_minor": 0
      },
      "text/plain": [
       "Downloading (…)cial_tokens_map.json:   0%|          | 0.00/65.0 [00:00<?, ?B/s]"
      ]
     },
     "metadata": {},
     "output_type": "display_data"
    }
   ],
   "source": [
    "# Use a pipeline as a high-level helper\n",
    "# helps to summarize the data with indicated numbers\n",
    "from transformers import pipeline\n",
    "\n",
    "pipe = pipeline(\"summarization\", model=\"google/pegasus-large\")"
   ]
  },
  {
   "cell_type": "code",
   "execution_count": 118,
   "id": "24f2ad85",
   "metadata": {},
   "outputs": [
    {
     "name": "stderr",
     "output_type": "stream",
     "text": [
      "Some weights of PegasusForConditionalGeneration were not initialized from the model checkpoint at google/pegasus-large and are newly initialized: ['model.decoder.embed_positions.weight', 'model.encoder.embed_positions.weight']\n",
      "You should probably TRAIN this model on a down-stream task to be able to use it for predictions and inference.\n"
     ]
    }
   ],
   "source": [
    "from transformers import AutoTokenizer, AutoModelForSeq2SeqLM\n",
    "\n",
    "tokenizer = AutoTokenizer.from_pretrained(\"google/pegasus-large\")\n",
    "model = AutoModelForSeq2SeqLM.from_pretrained(\"google/pegasus-large\")\n"
   ]
  },
  {
   "cell_type": "code",
   "execution_count": 121,
   "id": "653b3e72",
   "metadata": {},
   "outputs": [
    {
     "name": "stdout",
     "output_type": "stream",
     "text": [
      "Generated Summary: This area of 86,500 square km holds two-thirds of the world’s coral species and more than 3,000 species of reef fish — twice as many as are found anywhere else.\n"
     ]
    }
   ],
   "source": [
    "input_text = \"Coral reefs are found from the Middle East to Australia and America. They cover less than 0.1% of the ocean floor. But their importance is far greater than that figure suggests. They protect 150,000km (93,000 miles) of shoreline in more than 100 countries and territories by acting as coastal buffers, enduring the brunt of high waves and rough weather. They also support perhaps a quarter of all marine species, and act as nurseries for many others. In South-East Asian waters, the richest reefs are in the “coral triangle” (see map). This area of 86,500 square km holds two-thirds of the world’s coral species and more than 3,000 species of reef fish — twice as many as are found anywhere else.\"\n",
    "inputs = tokenizer(input_text, return_tensors=\"pt\", max_length=1024, truncation=True)\n",
    "summary_ids = model.generate(inputs[\"input_ids\"])\n",
    "\n",
    "summary = tokenizer.decode(summary_ids[0], skip_special_tokens=True)\n",
    "print(\"Generated Summary:\", summary)\n"
   ]
  },
  {
   "cell_type": "code",
   "execution_count": 41,
   "id": "b1342dac",
   "metadata": {},
   "outputs": [
    {
     "name": "stdout",
     "output_type": "stream",
     "text": [
      "Predicted class: loggerhead, loggerhead turtle, Caretta caretta\n"
     ]
    }
   ],
   "source": [
    "# translate the pictire into word detection as it shown \n",
    "from transformers import ViTImageProcessor, ViTForImageClassification\n",
    "from PIL import Image\n",
    "import requests\n",
    "\n",
    "url = 'https://miro.medium.com/v2/resize:fit:1400/format:webp/1*LlVSWTPhY8DdtOgnj4S73w.jpeg'\n",
    "image = Image.open(requests.get(url, stream=True).raw)\n",
    "\n",
    "processor = ViTImageProcessor.from_pretrained('google/vit-base-patch16-224')\n",
    "model = ViTForImageClassification.from_pretrained('google/vit-base-patch16-224')\n",
    "\n",
    "inputs = processor(images=image, return_tensors=\"pt\")\n",
    "outputs = model(**inputs)\n",
    "logits = outputs.logits\n",
    "# model predicts one of the 1000 ImageNet classes\n",
    "predicted_class_idx = logits.argmax(-1).item()\n",
    "print(\"Predicted class:\", model.config.id2label[predicted_class_idx])"
   ]
  },
  {
   "cell_type": "code",
   "execution_count": 42,
   "id": "f63a41af",
   "metadata": {},
   "outputs": [
    {
     "name": "stdout",
     "output_type": "stream",
     "text": [
      "Sentence 1: Oceans absorb about 30% of carbon dioxide emitted into the atmosphere, which makes them more acidic; as concentrations of carbon dioxide in the water rise, it will be harder for coral skeletons to calcify\n",
      "\n",
      "Sentence 2: And as oceans warm, corals will lose their colourful algae, which can only cope within a narrow range of temperatures\n",
      "\n",
      "Sentence 3: The first time coincided with El Niño in 1997–98, the world’s largest climatic phenomenon, which causes surface temperatures to soar in the Pacific Ocean\n",
      "\n",
      "Sentence 4: 1% of the ocean floor\n",
      "\n",
      "Sentence 5: Less than 3% of the ocean’s surface is within an MPA\n",
      "\n",
      "Sentence 6: America’s National Oceanic and Atmospheric Administration (NOAA) has been working with a private firm, Saildrone, on hardy models equipped with carbon-fibre fins\n",
      "\n",
      "Sentence 7: They cost less than $500,000 each and can roam remote ocean regions for months, making them far cheaper than manned boats\n",
      "\n",
      "Sentence 8: And they could carry out other useful work at the same time, such as monitoring ocean temperature and acidity or tracking tagged members of endangered species\n",
      "\n",
      "Sentence 9: Neither oceanic warming nor acidification can be kept out by an MPA\n",
      "\n",
      "Sentence 10: Her team aims to help corals withstand changing ocean temperature and chemistry\n",
      "\n"
     ]
    }
   ],
   "source": [
    "#Find every sentence that contains word ocean from the article\n",
    "import requests\n",
    "from bs4 import BeautifulSoup\n",
    "\n",
    "# URL of the article\n",
    "url = \"https://medium.com/the-economist/the-worlds-reefs-are-dying-here-s-how-to-save-them-2326bcf2e2af\"\n",
    "\n",
    "# Send a GET request to the URL\n",
    "response = requests.get(url)\n",
    "response.raise_for_status()\n",
    "\n",
    "# Parse the HTML content using BeautifulSoup\n",
    "soup = BeautifulSoup(response.content, \"html.parser\")\n",
    "\n",
    "# Find all the paragraphs in the article\n",
    "paragraphs = soup.find_all(\"p\")\n",
    "\n",
    "# Search for sentences containing the word \"ocean\"\n",
    "ocean_sentences = []\n",
    "for paragraph in paragraphs:\n",
    "    sentences = paragraph.text.split(\".\")\n",
    "    for sentence in sentences:\n",
    "        if \"ocean\" in sentence.lower():\n",
    "            ocean_sentences.append(sentence.strip())\n",
    "\n",
    "# Print the sentences containing the word \"ocean\"\n",
    "for i, sentence in enumerate(ocean_sentences, start=1):\n",
    "    print(f\"Sentence {i}: {sentence}\\n\")\n"
   ]
  },
  {
   "cell_type": "code",
   "execution_count": 43,
   "id": "d270f7bc",
   "metadata": {},
   "outputs": [
    {
     "name": "stderr",
     "output_type": "stream",
     "text": [
      "2023-08-19 10:13:16.041247: I tensorflow/core/platform/cpu_feature_guard.cc:182] This TensorFlow binary is optimized to use available CPU instructions in performance-critical operations.\n",
      "To enable the following instructions: AVX2 AVX512F AVX512_VNNI FMA, in other operations, rebuild TensorFlow with the appropriate compiler flags.\n",
      "No model was supplied, defaulted to sshleifer/distilbart-cnn-12-6 and revision a4f8f3e (https://huggingface.co/sshleifer/distilbart-cnn-12-6).\n",
      "Using a pipeline without specifying a model name and revision in production is not recommended.\n"
     ]
    },
    {
     "data": {
      "application/vnd.jupyter.widget-view+json": {
       "model_id": "31b0f6e8ca924a97b725faded55ec7fe",
       "version_major": 2,
       "version_minor": 0
      },
      "text/plain": [
       "Downloading (…)lve/main/config.json:   0%|          | 0.00/1.80k [00:00<?, ?B/s]"
      ]
     },
     "metadata": {},
     "output_type": "display_data"
    },
    {
     "data": {
      "application/vnd.jupyter.widget-view+json": {
       "model_id": "978278837aa6497892e715a1a625b12a",
       "version_major": 2,
       "version_minor": 0
      },
      "text/plain": [
       "Downloading pytorch_model.bin:   0%|          | 0.00/1.22G [00:00<?, ?B/s]"
      ]
     },
     "metadata": {},
     "output_type": "display_data"
    },
    {
     "data": {
      "application/vnd.jupyter.widget-view+json": {
       "model_id": "30bf6687137f4f63adb22c6e50315125",
       "version_major": 2,
       "version_minor": 0
      },
      "text/plain": [
       "Downloading (…)okenizer_config.json:   0%|          | 0.00/26.0 [00:00<?, ?B/s]"
      ]
     },
     "metadata": {},
     "output_type": "display_data"
    },
    {
     "data": {
      "application/vnd.jupyter.widget-view+json": {
       "model_id": "d7a6fe3be9f14075ae851ff3e03d656b",
       "version_major": 2,
       "version_minor": 0
      },
      "text/plain": [
       "Downloading (…)olve/main/vocab.json:   0%|          | 0.00/899k [00:00<?, ?B/s]"
      ]
     },
     "metadata": {},
     "output_type": "display_data"
    },
    {
     "data": {
      "application/vnd.jupyter.widget-view+json": {
       "model_id": "1da74bb5558b4e80a16e59afcc0ad020",
       "version_major": 2,
       "version_minor": 0
      },
      "text/plain": [
       "Downloading (…)olve/main/merges.txt:   0%|          | 0.00/456k [00:00<?, ?B/s]"
      ]
     },
     "metadata": {},
     "output_type": "display_data"
    },
    {
     "name": "stdout",
     "output_type": "stream",
     "text": [
      " Oceans absorb about 30% of carbon dioxide emitted into the atmosphere, which makes them more acidic . America’s National Oceanic and Atmospheric Administration (NOAA) has been working with a private firm, Saildrone, on hardy models equipped with carbon-fibre fins . They cost less than $500,000 each and can roam remote ocean regions for months .\n"
     ]
    }
   ],
   "source": [
    "# summarize the data obtain\n",
    "from transformers import pipeline\n",
    "\n",
    "# Load the summarization pipeline\n",
    "summarizer = pipeline(\"summarization\")\n",
    "\n",
    "# Input text to be summarized\n",
    "input_text = \"\"\"\n",
    "Sentence 1: Oceans absorb about 30% of carbon dioxide emitted into the atmosphere, which makes them more acidic; as concentrations of carbon dioxide in the water rise, it will be harder for coral skeletons to calcify\n",
    "\n",
    "Sentence 2: And as oceans warm, corals will lose their colourful algae, which can only cope within a narrow range of temperatures\n",
    "\n",
    "Sentence 3: The first time coincided with El Niño in 1997–98, the world’s largest climatic phenomenon, which causes surface temperatures to soar in the Pacific Ocean\n",
    "\n",
    "Sentence 4: 1% of the ocean floor\n",
    "\n",
    "Sentence 5: Less than 3% of the ocean’s surface is within an MPA\n",
    "\n",
    "Sentence 6: America’s National Oceanic and Atmospheric Administration (NOAA) has been working with a private firm, Saildrone, on hardy models equipped with carbon-fibre fins\n",
    "\n",
    "Sentence 7: They cost less than $500,000 each and can roam remote ocean regions for months, making them far cheaper than manned boats\n",
    "\n",
    "Sentence 8: And they could carry out other useful work at the same time, such as monitoring ocean temperature and acidity or tracking tagged members of endangered species\n",
    "\n",
    "Sentence 9: Neither oceanic warming nor acidification can be kept out by an MPA\n",
    "\n",
    "Sentence 10: Her team aims to help corals withstand changing ocean temperature and chemistry\n",
    "\"\"\"\n",
    "\n",
    "# Generate the summary\n",
    "summary = summarizer(input_text, max_length=150, min_length=30, do_sample=False)\n",
    "\n",
    "# Print the summary\n",
    "print(summary[0]['summary_text'])\n"
   ]
  },
  {
   "cell_type": "code",
   "execution_count": 44,
   "id": "4cf41639",
   "metadata": {
    "scrolled": true
   },
   "outputs": [
    {
     "name": "stdout",
     "output_type": "stream",
     "text": [
      "1. 3\n",
      "2. Oceans absorb about 30% of carbon dioxide emitted into the atmosphere, which makes them more acidic; as concentrations of carbon dioxide in the water rise, it will be harder for coral skeletons to calcify\n",
      "3. The first time coincided with El Niño in 1997–98, the world’s largest climatic phenomenon, which causes surface temperatures to soar in the Pacific Ocean\n",
      "4. The second was in 2010\n",
      "5. About 16% of corals died in the 1997–98 disaster\n",
      "6. The current bleaching event, once more occurring alongside a Niño, may have affected 38% of the world’s corals\n",
      "7. They cover less than 0\n",
      "8. 1% of the ocean floor\n",
      "9. They protect 150,000km (93,000 miles) of shoreline in more than 100 countries and territories by acting as coastal buffers, enduring the brunt of high waves and rough weather\n",
      "10. This area of 86,500 square km holds two-thirds of the world’s coral species and more than 3,000 species of reef fish — twice as many as are found anywhere else\n",
      "11. The World Resources Institute, a think-tank, estimates that about 60% of reefs face such immediate threats\n",
      "12. Tourism generated by the Great Barrier Reef is worth about $4\n",
      "13. 6 billion annually to nearby Queensland alone\n",
      "14. Estimates suggest that the economic value of Martinique and Saint Lucia’s corals comes to $50,000 per square km each year, thanks largely to tourism\n",
      "15. In Indonesia and in the Philippines, up to 1m people’s livelihoods depend on reefs\n",
      "16. In Indonesia and in the Philippines, up to 1m people’s livelihoods depend on reefs\n",
      "17. The Aichi targets, agreed in 2010 under the UN Convention on Biological Diversity, seek to reduce “anthropogenic pressures” on coral reefs to “maintain their integrity and function”\n",
      "18. The aim is to have at least 17% of inland water and 10% of coastal and marine areas under conservation by 2020\n",
      "19. Less than 3% of the ocean’s surface is within an MPA\n",
      "20. In 2009 George Bush junior, then president of America, established three national marine monuments in the Pacific, including nearly 518,000 square km of coral islands and surrounding areas\n",
      "21. They cost less than $500,000 each and can roam remote ocean regions for months, making them far cheaper than manned boats\n",
      "22. Three-quarters of coral reefs in Australian waters are in MPAs, but only 16% of those within the coral triangle\n",
      "23. Indonesia has more than 17,500 islands, he points out\n",
      "24. Just 0\n",
      "25. 09% of Malaysia’s territorial waters, and those within its exclusive economic zone, are protected by an MPA\n",
      "26. About $1m was needed to set up the area; its upkeep will require half that each year\n",
      "27. Back slaps and handshakes accompanied the inclusion of an aim to limit global warming to just 1\n",
      "28. 5°C above pre-industrial levels in the Paris Agreement last year\n",
      "29. In Kane’ohe Bay, where the Hawaii Institute of Marine Biology lies, 70% of some reef patches has been bleached in the current event\n",
      "30. Others, less than 200 metres away, suffered bleaching to just 40% of their corals\n",
      "31. So a team at the Hawaii Institute of Marine Biology is in the early stages of engineering reef ecosystems, with $4m from the Paul G\n",
      "32. 3\n",
      "33. 90\n",
      "34. 8\n",
      "35. 68\n",
      "36. 33\n",
      "37. 889\n",
      "38. 879\n",
      "39. 280\n",
      "40. 558\n",
      "41. 73\n",
      "42. 147\n"
     ]
    }
   ],
   "source": [
    "# find all the sentences that contain numbers from the article\n",
    "import requests\n",
    "from bs4 import BeautifulSoup\n",
    "import re\n",
    "\n",
    "# URL of the article\n",
    "url = \"https://medium.com/the-economist/the-worlds-reefs-are-dying-here-s-how-to-save-them-2326bcf2e2af\"\n",
    "\n",
    "# Send a GET request to the URL\n",
    "response = requests.get(url)\n",
    "content = response.content\n",
    "\n",
    "# Parse the HTML content using BeautifulSoup\n",
    "soup = BeautifulSoup(content, \"html.parser\")\n",
    "\n",
    "# Find all text within <p> tags\n",
    "paragraphs = soup.find_all(\"p\")\n",
    "\n",
    "# Extract sentences containing numbers\n",
    "sentences_with_numbers = []\n",
    "for paragraph in paragraphs:\n",
    "    paragraph_text = paragraph.get_text()\n",
    "    sentences = re.split(r'[.!?]', paragraph_text)\n",
    "    for sentence in sentences:\n",
    "        if any(char.isdigit() for char in sentence):\n",
    "            sentences_with_numbers.append(sentence.strip())\n",
    "\n",
    "# Print the sentences containing numbers\n",
    "for index, sentence in enumerate(sentences_with_numbers, start=1):\n",
    "    print(f\"{index}. {sentence}\")\n"
   ]
  },
  {
   "cell_type": "code",
   "execution_count": 14,
   "id": "1ea9226a",
   "metadata": {},
   "outputs": [
    {
     "data": {
      "application/vnd.jupyter.widget-view+json": {
       "model_id": "59b565045c7142d3acef29c81465b57a",
       "version_major": 2,
       "version_minor": 0
      },
      "text/plain": [
       "Downloading (…)e9125/.gitattributes:   0%|          | 0.00/1.18k [00:00<?, ?B/s]"
      ]
     },
     "metadata": {},
     "output_type": "display_data"
    },
    {
     "data": {
      "application/vnd.jupyter.widget-view+json": {
       "model_id": "2bd08c17498b4db7a7993181ff1307ae",
       "version_major": 2,
       "version_minor": 0
      },
      "text/plain": [
       "Downloading (…)_Pooling/config.json:   0%|          | 0.00/190 [00:00<?, ?B/s]"
      ]
     },
     "metadata": {},
     "output_type": "display_data"
    },
    {
     "data": {
      "application/vnd.jupyter.widget-view+json": {
       "model_id": "73dc4c85e6624af6a9c82fcbf5993dc4",
       "version_major": 2,
       "version_minor": 0
      },
      "text/plain": [
       "Downloading (…)7e55de9125/README.md:   0%|          | 0.00/10.6k [00:00<?, ?B/s]"
      ]
     },
     "metadata": {},
     "output_type": "display_data"
    },
    {
     "data": {
      "application/vnd.jupyter.widget-view+json": {
       "model_id": "e27b6b357bfe45dca56e345ab26960c3",
       "version_major": 2,
       "version_minor": 0
      },
      "text/plain": [
       "Downloading (…)55de9125/config.json:   0%|          | 0.00/612 [00:00<?, ?B/s]"
      ]
     },
     "metadata": {},
     "output_type": "display_data"
    },
    {
     "data": {
      "application/vnd.jupyter.widget-view+json": {
       "model_id": "f42444257b48494da3df41a531e38a18",
       "version_major": 2,
       "version_minor": 0
      },
      "text/plain": [
       "Downloading (…)ce_transformers.json:   0%|          | 0.00/116 [00:00<?, ?B/s]"
      ]
     },
     "metadata": {},
     "output_type": "display_data"
    },
    {
     "data": {
      "application/vnd.jupyter.widget-view+json": {
       "model_id": "818a33aa201e4a65a674879ac38ebbc3",
       "version_major": 2,
       "version_minor": 0
      },
      "text/plain": [
       "Downloading (…)125/data_config.json:   0%|          | 0.00/39.3k [00:00<?, ?B/s]"
      ]
     },
     "metadata": {},
     "output_type": "display_data"
    },
    {
     "data": {
      "application/vnd.jupyter.widget-view+json": {
       "model_id": "e8ae989a4f874c48b4733f470c26afa4",
       "version_major": 2,
       "version_minor": 0
      },
      "text/plain": [
       "Downloading pytorch_model.bin:   0%|          | 0.00/90.9M [00:00<?, ?B/s]"
      ]
     },
     "metadata": {},
     "output_type": "display_data"
    },
    {
     "data": {
      "application/vnd.jupyter.widget-view+json": {
       "model_id": "34cd573063474195a52a2803ea175a8c",
       "version_major": 2,
       "version_minor": 0
      },
      "text/plain": [
       "Downloading (…)nce_bert_config.json:   0%|          | 0.00/53.0 [00:00<?, ?B/s]"
      ]
     },
     "metadata": {},
     "output_type": "display_data"
    },
    {
     "data": {
      "application/vnd.jupyter.widget-view+json": {
       "model_id": "0c7f6240fd804772b48f97d402eba4f6",
       "version_major": 2,
       "version_minor": 0
      },
      "text/plain": [
       "Downloading (…)cial_tokens_map.json:   0%|          | 0.00/112 [00:00<?, ?B/s]"
      ]
     },
     "metadata": {},
     "output_type": "display_data"
    },
    {
     "data": {
      "application/vnd.jupyter.widget-view+json": {
       "model_id": "7d262809fafc44d4a91a5336568c69bf",
       "version_major": 2,
       "version_minor": 0
      },
      "text/plain": [
       "Downloading (…)e9125/tokenizer.json:   0%|          | 0.00/466k [00:00<?, ?B/s]"
      ]
     },
     "metadata": {},
     "output_type": "display_data"
    },
    {
     "data": {
      "application/vnd.jupyter.widget-view+json": {
       "model_id": "76607e3eadaf4cb7aad9c7df6e09f3c4",
       "version_major": 2,
       "version_minor": 0
      },
      "text/plain": [
       "Downloading (…)okenizer_config.json:   0%|          | 0.00/350 [00:00<?, ?B/s]"
      ]
     },
     "metadata": {},
     "output_type": "display_data"
    },
    {
     "data": {
      "application/vnd.jupyter.widget-view+json": {
       "model_id": "0debb934dbcb453f8408b4ae36b5e4db",
       "version_major": 2,
       "version_minor": 0
      },
      "text/plain": [
       "Downloading (…)9125/train_script.py:   0%|          | 0.00/13.2k [00:00<?, ?B/s]"
      ]
     },
     "metadata": {},
     "output_type": "display_data"
    },
    {
     "data": {
      "application/vnd.jupyter.widget-view+json": {
       "model_id": "f213666bea5f4534a4498f3484e051a0",
       "version_major": 2,
       "version_minor": 0
      },
      "text/plain": [
       "Downloading (…)7e55de9125/vocab.txt:   0%|          | 0.00/232k [00:00<?, ?B/s]"
      ]
     },
     "metadata": {},
     "output_type": "display_data"
    },
    {
     "data": {
      "application/vnd.jupyter.widget-view+json": {
       "model_id": "0b33edbba4f4489f84783d2bb55ea52a",
       "version_major": 2,
       "version_minor": 0
      },
      "text/plain": [
       "Downloading (…)5de9125/modules.json:   0%|          | 0.00/349 [00:00<?, ?B/s]"
      ]
     },
     "metadata": {},
     "output_type": "display_data"
    },
    {
     "name": "stderr",
     "output_type": "stream",
     "text": [
      "2023-08-20 11:56:24.985023: I tensorflow/core/platform/cpu_feature_guard.cc:182] This TensorFlow binary is optimized to use available CPU instructions in performance-critical operations.\n",
      "To enable the following instructions: AVX2 AVX512F AVX512_VNNI FMA, in other operations, rebuild TensorFlow with the appropriate compiler flags.\n"
     ]
    },
    {
     "name": "stdout",
     "output_type": "stream",
     "text": [
      "[[-0.00723703  0.04311008  0.06393006 ... -0.06468004  0.04283938\n",
      "   0.02824803]\n",
      " [-0.01499408 -0.03190567  0.03675162 ... -0.11750597 -0.0109394\n",
      "  -0.00384266]\n",
      " [-0.00763885  0.00682943 -0.01405705 ... -0.02026118  0.02190015\n",
      "   0.02802417]\n",
      " [ 0.06093873  0.02537121  0.08559769 ... -0.11860294  0.05483783\n",
      "   0.00108477]\n",
      " [ 0.09643563  0.06828187  0.04747113 ... -0.09974942 -0.02487654\n",
      "   0.02436539]]\n"
     ]
    }
   ],
   "source": [
    "# find sentence similarity\n",
    "from sentence_transformers import SentenceTransformer\n",
    "sentences = [\"So researchers are turning their attention to ways to help corals cope\", \"Their global diversity, scientists hope, may hold the key\", \"The same coral will grow differently under different conditions: corals of the western Pacific near Indonesia, for example, can withstand higher temperatures than the same species in the eastern Pacific near Hawaii\", \"Such disparities can be found even quite locally. In Kane’ohe Bay, where the Hawaii Institute of Marine Biology lies, 70% of some reef patches has been bleached in the current event\", \"Others, less than 200 metres away, suffered bleaching to just 40% of their corals\"]\n",
    "\n",
    "model = SentenceTransformer('sentence-transformers/all-MiniLM-L6-v2')\n",
    "embeddings = model.encode(sentences)\n",
    "print(embeddings)"
   ]
  }
 ],
 "metadata": {
  "kernelspec": {
   "display_name": "Python 3 (ipykernel)",
   "language": "python",
   "name": "python3"
  },
  "language_info": {
   "codemirror_mode": {
    "name": "ipython",
    "version": 3
   },
   "file_extension": ".py",
   "mimetype": "text/x-python",
   "name": "python",
   "nbconvert_exporter": "python",
   "pygments_lexer": "ipython3",
   "version": "3.11.4"
  }
 },
 "nbformat": 4,
 "nbformat_minor": 5
}
